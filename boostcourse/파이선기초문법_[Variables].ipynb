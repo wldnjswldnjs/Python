{
 "cells": [
  {
   "cell_type": "markdown",
   "id": "cef35057",
   "metadata": {},
   "source": [
    "### 같은 메모리 공간"
   ]
  },
  {
   "cell_type": "code",
   "execution_count": 1,
   "id": "97cf2c88",
   "metadata": {},
   "outputs": [],
   "source": [
    "a = [5, 4, 3, 2, 1]\n",
    "b = [1, 2, 3, 4, 5]"
   ]
  },
  {
   "cell_type": "code",
   "execution_count": 2,
   "id": "80ae8d28",
   "metadata": {},
   "outputs": [],
   "source": [
    "b = a  # 같은 메모리 공간을 가르키게 된다."
   ]
  },
  {
   "cell_type": "code",
   "execution_count": 3,
   "id": "6d9359ac",
   "metadata": {},
   "outputs": [
    {
     "data": {
      "text/plain": [
       "[5, 4, 3, 2, 1]"
      ]
     },
     "execution_count": 3,
     "metadata": {},
     "output_type": "execute_result"
    }
   ],
   "source": [
    "a"
   ]
  },
  {
   "cell_type": "code",
   "execution_count": 4,
   "id": "74ee871d",
   "metadata": {},
   "outputs": [
    {
     "data": {
      "text/plain": [
       "[5, 4, 3, 2, 1]"
      ]
     },
     "execution_count": 4,
     "metadata": {},
     "output_type": "execute_result"
    }
   ],
   "source": [
    "b"
   ]
  },
  {
   "cell_type": "code",
   "execution_count": 5,
   "id": "6c3cd024",
   "metadata": {},
   "outputs": [],
   "source": [
    "a.sort() # 자기가 변하는 함수"
   ]
  },
  {
   "cell_type": "code",
   "execution_count": 6,
   "id": "35eb6cd1",
   "metadata": {},
   "outputs": [
    {
     "data": {
      "text/plain": [
       "[1, 2, 3, 4, 5]"
      ]
     },
     "execution_count": 6,
     "metadata": {},
     "output_type": "execute_result"
    }
   ],
   "source": [
    "a"
   ]
  },
  {
   "cell_type": "code",
   "execution_count": 7,
   "id": "e3265785",
   "metadata": {},
   "outputs": [
    {
     "data": {
      "text/plain": [
       "[1, 2, 3, 4, 5]"
      ]
     },
     "execution_count": 7,
     "metadata": {},
     "output_type": "execute_result"
    }
   ],
   "source": [
    "b"
   ]
  },
  {
   "cell_type": "code",
   "execution_count": 8,
   "id": "6bb97afc",
   "metadata": {},
   "outputs": [],
   "source": [
    "a[3] = 100"
   ]
  },
  {
   "cell_type": "code",
   "execution_count": 9,
   "id": "aa4e2254",
   "metadata": {},
   "outputs": [
    {
     "data": {
      "text/plain": [
       "[1, 2, 3, 100, 5]"
      ]
     },
     "execution_count": 9,
     "metadata": {},
     "output_type": "execute_result"
    }
   ],
   "source": [
    "a"
   ]
  },
  {
   "cell_type": "code",
   "execution_count": 10,
   "id": "ce11826d",
   "metadata": {},
   "outputs": [
    {
     "data": {
      "text/plain": [
       "[1, 2, 3, 100, 5]"
      ]
     },
     "execution_count": 10,
     "metadata": {},
     "output_type": "execute_result"
    }
   ],
   "source": [
    "b # b도 똑같이 변한다."
   ]
  },
  {
   "cell_type": "code",
   "execution_count": 11,
   "id": "5b439d2e",
   "metadata": {},
   "outputs": [],
   "source": [
    "b = [1, 2, 3, 4, 5]"
   ]
  },
  {
   "cell_type": "code",
   "execution_count": 12,
   "id": "72eef83b",
   "metadata": {
    "scrolled": false
   },
   "outputs": [
    {
     "data": {
      "text/plain": [
       "[1, 2, 3, 4, 5]"
      ]
     },
     "execution_count": 12,
     "metadata": {},
     "output_type": "execute_result"
    }
   ],
   "source": [
    "b # 재할당해줘야 변함"
   ]
  },
  {
   "cell_type": "markdown",
   "id": "dcde0b70",
   "metadata": {},
   "source": [
    "### 복사해서 새로운 공간을 만든 것이다."
   ]
  },
  {
   "cell_type": "code",
   "execution_count": 13,
   "id": "db4fbaa2",
   "metadata": {},
   "outputs": [],
   "source": [
    "b = a[:] # a의 모든 것을 가져와라"
   ]
  },
  {
   "cell_type": "code",
   "execution_count": 14,
   "id": "d63d6ef4",
   "metadata": {},
   "outputs": [
    {
     "data": {
      "text/plain": [
       "[1, 2, 3, 100, 5]"
      ]
     },
     "execution_count": 14,
     "metadata": {},
     "output_type": "execute_result"
    }
   ],
   "source": [
    "a"
   ]
  },
  {
   "cell_type": "code",
   "execution_count": 15,
   "id": "390e460f",
   "metadata": {},
   "outputs": [
    {
     "data": {
      "text/plain": [
       "[1, 2, 3, 100, 5]"
      ]
     },
     "execution_count": 15,
     "metadata": {},
     "output_type": "execute_result"
    }
   ],
   "source": [
    "b"
   ]
  },
  {
   "cell_type": "code",
   "execution_count": 16,
   "id": "bf9fd093",
   "metadata": {},
   "outputs": [],
   "source": [
    "a.sort()"
   ]
  },
  {
   "cell_type": "code",
   "execution_count": 17,
   "id": "5e35900f",
   "metadata": {},
   "outputs": [
    {
     "data": {
      "text/plain": [
       "[1, 2, 3, 5, 100]"
      ]
     },
     "execution_count": 17,
     "metadata": {},
     "output_type": "execute_result"
    }
   ],
   "source": [
    "a"
   ]
  },
  {
   "cell_type": "code",
   "execution_count": 18,
   "id": "a1e33ec2",
   "metadata": {},
   "outputs": [
    {
     "data": {
      "text/plain": [
       "[1, 2, 3, 100, 5]"
      ]
     },
     "execution_count": 18,
     "metadata": {},
     "output_type": "execute_result"
    }
   ],
   "source": [
    "b"
   ]
  },
  {
   "cell_type": "markdown",
   "id": "536deddd",
   "metadata": {},
   "source": [
    "### 패킹"
   ]
  },
  {
   "cell_type": "code",
   "execution_count": 19,
   "id": "50574303",
   "metadata": {},
   "outputs": [],
   "source": [
    "t = [1, 2, 3]  # 1,2,3을 변수 t에 패킹"
   ]
  },
  {
   "cell_type": "markdown",
   "id": "0a59f4cc",
   "metadata": {},
   "source": [
    "### 언패킹"
   ]
  },
  {
   "cell_type": "code",
   "execution_count": 20,
   "id": "bcc19a3f",
   "metadata": {},
   "outputs": [],
   "source": [
    "a, b, c = t # t에 있는 값 1,2,3을 변수 a,b,c에 언패킹"
   ]
  },
  {
   "cell_type": "code",
   "execution_count": 21,
   "id": "2023562a",
   "metadata": {},
   "outputs": [
    {
     "data": {
      "text/plain": [
       "1"
      ]
     },
     "execution_count": 21,
     "metadata": {},
     "output_type": "execute_result"
    }
   ],
   "source": [
    "a"
   ]
  },
  {
   "cell_type": "code",
   "execution_count": 22,
   "id": "150b5a9f",
   "metadata": {},
   "outputs": [
    {
     "data": {
      "text/plain": [
       "2"
      ]
     },
     "execution_count": 22,
     "metadata": {},
     "output_type": "execute_result"
    }
   ],
   "source": [
    "b"
   ]
  },
  {
   "cell_type": "code",
   "execution_count": 23,
   "id": "25ae7a52",
   "metadata": {},
   "outputs": [
    {
     "data": {
      "text/plain": [
       "3"
      ]
     },
     "execution_count": 23,
     "metadata": {},
     "output_type": "execute_result"
    }
   ],
   "source": [
    "c"
   ]
  },
  {
   "cell_type": "markdown",
   "id": "e35a2a4f",
   "metadata": {},
   "source": [
    "### 이차원 리스트\n",
    "- 리스트 안에 리스트를 만들어 행렬 생성"
   ]
  },
  {
   "cell_type": "code",
   "execution_count": 24,
   "id": "b2ec4871",
   "metadata": {},
   "outputs": [],
   "source": [
    "kor_score = [49, 79, 20, 100, 80]\n",
    "math_score = [43, 59, 85, 30, 90]\n",
    "eng_score = [49, 79, 48, 60, 100]\n",
    "\n",
    "midterm_score = [kor_score, math_score, eng_score]"
   ]
  },
  {
   "cell_type": "code",
   "execution_count": 25,
   "id": "0406418e",
   "metadata": {},
   "outputs": [
    {
     "data": {
      "text/plain": [
       "[[49, 79, 20, 100, 80], [43, 59, 85, 30, 90], [49, 79, 48, 60, 100]]"
      ]
     },
     "execution_count": 25,
     "metadata": {},
     "output_type": "execute_result"
    }
   ],
   "source": [
    "midterm_score"
   ]
  },
  {
   "cell_type": "code",
   "execution_count": 26,
   "id": "af1a6719",
   "metadata": {},
   "outputs": [
    {
     "name": "stdout",
     "output_type": "stream",
     "text": [
      "20\n"
     ]
    }
   ],
   "source": [
    "print(midterm_score[0][2])"
   ]
  },
  {
   "cell_type": "code",
   "execution_count": 27,
   "id": "a34bb995",
   "metadata": {},
   "outputs": [],
   "source": [
    "midterm_copy = midterm_score[:]"
   ]
  },
  {
   "cell_type": "code",
   "execution_count": 28,
   "id": "89ce1401",
   "metadata": {},
   "outputs": [
    {
     "data": {
      "text/plain": [
       "[[49, 79, 20, 100, 80], [43, 59, 85, 30, 90], [49, 79, 48, 60, 100]]"
      ]
     },
     "execution_count": 28,
     "metadata": {},
     "output_type": "execute_result"
    }
   ],
   "source": [
    "midterm_copy"
   ]
  },
  {
   "cell_type": "code",
   "execution_count": 29,
   "id": "bba5f0f9",
   "metadata": {},
   "outputs": [],
   "source": [
    "midterm_score[0][3] = 50"
   ]
  },
  {
   "cell_type": "code",
   "execution_count": 30,
   "id": "b95059df",
   "metadata": {},
   "outputs": [
    {
     "data": {
      "text/plain": [
       "[[49, 79, 20, 50, 80], [43, 59, 85, 30, 90], [49, 79, 48, 60, 100]]"
      ]
     },
     "execution_count": 30,
     "metadata": {},
     "output_type": "execute_result"
    }
   ],
   "source": [
    "midterm_score"
   ]
  },
  {
   "cell_type": "markdown",
   "id": "25fdffcf",
   "metadata": {},
   "source": [
    "#### copy도 값이 바뀌어 있는 걸 볼 수 있다."
   ]
  },
  {
   "cell_type": "code",
   "execution_count": 31,
   "id": "37baaba8",
   "metadata": {},
   "outputs": [
    {
     "data": {
      "text/plain": [
       "[[49, 79, 20, 50, 80], [43, 59, 85, 30, 90], [49, 79, 48, 60, 100]]"
      ]
     },
     "execution_count": 31,
     "metadata": {},
     "output_type": "execute_result"
    }
   ],
   "source": [
    "midterm_copy"
   ]
  },
  {
   "cell_type": "markdown",
   "id": "d6300730",
   "metadata": {},
   "source": [
    "#### 복사 모듈"
   ]
  },
  {
   "cell_type": "code",
   "execution_count": 32,
   "id": "c973788f",
   "metadata": {},
   "outputs": [],
   "source": [
    "import copy"
   ]
  },
  {
   "cell_type": "code",
   "execution_count": 33,
   "id": "64b777c9",
   "metadata": {},
   "outputs": [],
   "source": [
    "kor_score = [49, 79, 20, 100, 80]\n",
    "math_score = [43, 59, 85, 30, 90]\n",
    "eng_score = [49, 79, 48, 60, 100]\n",
    "\n",
    "midterm_score = [kor_score, math_score, eng_score]"
   ]
  },
  {
   "cell_type": "code",
   "execution_count": 34,
   "id": "4dcfa222",
   "metadata": {},
   "outputs": [],
   "source": [
    "midterm_copy = copy.deepcopy(midterm_score)"
   ]
  },
  {
   "cell_type": "code",
   "execution_count": 35,
   "id": "7d3c63cb",
   "metadata": {},
   "outputs": [
    {
     "data": {
      "text/plain": [
       "[[100, 79, 20, 100, 80], [43, 59, 85, 30, 90], [49, 79, 48, 60, 100]]"
      ]
     },
     "execution_count": 35,
     "metadata": {},
     "output_type": "execute_result"
    }
   ],
   "source": [
    "midterm_copy[0][0] = 100\n",
    "midterm_copy"
   ]
  },
  {
   "cell_type": "code",
   "execution_count": 36,
   "id": "4b3bb587",
   "metadata": {},
   "outputs": [
    {
     "data": {
      "text/plain": [
       "[[49, 79, 20, 100, 80], [43, 59, 85, 30, 90], [49, 79, 48, 60, 100]]"
      ]
     },
     "execution_count": 36,
     "metadata": {},
     "output_type": "execute_result"
    }
   ],
   "source": [
    "midterm_score # copy와 값이 다르다."
   ]
  }
 ],
 "metadata": {
  "kernelspec": {
   "display_name": "Python 3 (ipykernel)",
   "language": "python",
   "name": "python3"
  },
  "language_info": {
   "codemirror_mode": {
    "name": "ipython",
    "version": 3
   },
   "file_extension": ".py",
   "mimetype": "text/x-python",
   "name": "python",
   "nbconvert_exporter": "python",
   "pygments_lexer": "ipython3",
   "version": "3.9.7"
  }
 },
 "nbformat": 4,
 "nbformat_minor": 5
}
