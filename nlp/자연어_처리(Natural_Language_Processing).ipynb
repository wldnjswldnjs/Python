{
  "cells": [
    {
      "cell_type": "markdown",
      "metadata": {
        "id": "YLv9iQK0HOlX"
      },
      "source": [
        "# 자연어 처리(Natural Language Processing)"
      ]
    },
    {
      "cell_type": "markdown",
      "metadata": {
        "id": "inehXda7HZhF"
      },
      "source": [
        "* 자연어는 일상 생활에서 사용하는 언어\n",
        "* 자연어 처리는 자연어의 의미를 분석 처리하는 일\n",
        "* 텍스트 분류, 감성 분석, 문서 요약, 번역, 질의 응답, 음성 인식, 챗봇과 같은 응용"
      ]
    },
    {
      "cell_type": "markdown",
      "metadata": {
        "id": "W53tu5dXuZR_"
      },
      "source": [
        "## 텍스트 처리"
      ]
    },
    {
      "cell_type": "code",
      "execution_count": 1,
      "metadata": {
        "id": "7gXKJ2H15wF_"
      },
      "outputs": [],
      "source": [
        "s = 'No pain no gain'"
      ]
    },
    {
      "cell_type": "code",
      "execution_count": 2,
      "metadata": {
        "id": "eDpKqMwU6G6M"
      },
      "outputs": [
        {
          "data": {
            "text/plain": [
              "True"
            ]
          },
          "execution_count": 2,
          "metadata": {},
          "output_type": "execute_result"
        }
      ],
      "source": [
        "'pain' in s"
      ]
    },
    {
      "cell_type": "code",
      "execution_count": 3,
      "metadata": {
        "id": "1kXoIXAD6a7J"
      },
      "outputs": [
        {
          "data": {
            "text/plain": [
              "['No', 'pain', 'no', 'gain']"
            ]
          },
          "execution_count": 3,
          "metadata": {},
          "output_type": "execute_result"
        }
      ],
      "source": [
        "s.split()"
      ]
    },
    {
      "cell_type": "code",
      "execution_count": 4,
      "metadata": {
        "id": "71btJnM_6Jp5"
      },
      "outputs": [
        {
          "data": {
            "text/plain": [
              "3"
            ]
          },
          "execution_count": 4,
          "metadata": {},
          "output_type": "execute_result"
        }
      ],
      "source": [
        "# gain의 위치\n",
        "s.split().index('gain')"
      ]
    },
    {
      "cell_type": "code",
      "execution_count": 5,
      "metadata": {
        "id": "IRcGQS4h6nnH"
      },
      "outputs": [
        {
          "data": {
            "text/plain": [
              "'gain'"
            ]
          },
          "execution_count": 5,
          "metadata": {},
          "output_type": "execute_result"
        }
      ],
      "source": [
        "s[-4:]"
      ]
    },
    {
      "cell_type": "code",
      "execution_count": 6,
      "metadata": {
        "id": "igK5VIBI6PMo"
      },
      "outputs": [
        {
          "data": {
            "text/plain": [
              "'pain'"
            ]
          },
          "execution_count": 6,
          "metadata": {},
          "output_type": "execute_result"
        }
      ],
      "source": [
        "s.split()[1]"
      ]
    },
    {
      "cell_type": "code",
      "execution_count": 7,
      "metadata": {
        "id": "bjIMwR776SIv"
      },
      "outputs": [
        {
          "data": {
            "text/plain": [
              "'on'"
            ]
          },
          "execution_count": 7,
          "metadata": {},
          "output_type": "execute_result"
        }
      ],
      "source": [
        "s.split()[2][::-1]\n",
        "# no가 reverse"
      ]
    },
    {
      "cell_type": "code",
      "execution_count": 8,
      "metadata": {
        "id": "lqk6iozeks2f"
      },
      "outputs": [],
      "source": [
        "s = '한글도 처리 가능'"
      ]
    },
    {
      "cell_type": "code",
      "execution_count": 9,
      "metadata": {
        "id": "KLusoOBWkvhI"
      },
      "outputs": [
        {
          "data": {
            "text/plain": [
              "True"
            ]
          },
          "execution_count": 9,
          "metadata": {},
          "output_type": "execute_result"
        }
      ],
      "source": [
        "'처리' in s"
      ]
    },
    {
      "cell_type": "code",
      "execution_count": 10,
      "metadata": {
        "id": "dy75iFEMkycR"
      },
      "outputs": [
        {
          "data": {
            "text/plain": [
              "['한글도', '처리', '가능']"
            ]
          },
          "execution_count": 10,
          "metadata": {},
          "output_type": "execute_result"
        }
      ],
      "source": [
        "s.split()"
      ]
    },
    {
      "cell_type": "code",
      "execution_count": 11,
      "metadata": {
        "id": "JrAyEDZdk1Jf"
      },
      "outputs": [
        {
          "data": {
            "text/plain": [
              "'한글도'"
            ]
          },
          "execution_count": 11,
          "metadata": {},
          "output_type": "execute_result"
        }
      ],
      "source": [
        "s.split()[0]"
      ]
    },
    {
      "cell_type": "markdown",
      "metadata": {
        "id": "--ANCtg2uPwW"
      },
      "source": [
        "## 영어 처리"
      ]
    },
    {
      "cell_type": "markdown",
      "metadata": {
        "id": "gxPYRMKXuiAM"
      },
      "source": [
        "#### 대소문자 통합"
      ]
    },
    {
      "cell_type": "markdown",
      "metadata": {
        "id": "jkwMuEpRvFI3"
      },
      "source": [
        "* 대소문자를 통합하지 않는다면 컴퓨터는 같은 단어를 다르게 받아들임\n",
        "* 파이썬의 내장 함수 `lower()`, `upper()`를 통해 간단하게 통합 가능"
      ]
    },
    {
      "cell_type": "code",
      "execution_count": 12,
      "metadata": {
        "id": "q9oloj0ivF34"
      },
      "outputs": [
        {
          "name": "stdout",
          "output_type": "stream",
          "text": [
            "abcdefgh ABCDEFGH\n"
          ]
        }
      ],
      "source": [
        "s = 'AbCdEfGh'\n",
        "\n",
        "str_lower = s.lower()\n",
        "\n",
        "str_upper = s.upper()\n",
        "\n",
        "print(str_lower, str_upper)"
      ]
    },
    {
      "cell_type": "markdown",
      "metadata": {
        "id": "PwDDC4HjPaWn"
      },
      "source": [
        "### 정규화(Normalization)"
      ]
    },
    {
      "cell_type": "code",
      "execution_count": 13,
      "metadata": {
        "id": "yRo-_ohoPdAz"
      },
      "outputs": [
        {
          "name": "stdout",
          "output_type": "stream",
          "text": [
            "I visited UK from US on 22-09-20\n"
          ]
        }
      ],
      "source": [
        "s = 'I visited UK from US on 22-09-20'\n",
        "\n",
        "print(s)"
      ]
    },
    {
      "cell_type": "code",
      "execution_count": 14,
      "metadata": {
        "id": "4nP3cRP_Pp09"
      },
      "outputs": [
        {
          "name": "stdout",
          "output_type": "stream",
          "text": [
            "I visited United Kingdom from United States on 22-09-2020\n"
          ]
        }
      ],
      "source": [
        "new_s = s.replace('UK', 'United Kingdom').replace('US', 'United States').replace('-20', '-2020')\n",
        "\n",
        "print(new_s)"
      ]
    },
    {
      "cell_type": "markdown",
      "metadata": {
        "id": "mwfz36YS1FCU"
      },
      "source": [
        "### 정규표현식"
      ]
    },
    {
      "cell_type": "markdown",
      "metadata": {
        "id": "myBZJRSL1JLE"
      },
      "source": [
        "* 정규 표현식은 특정 문자들을 편리하게 지정하고 추가, 삭제 가능\n",
        "* 데이터 전처리에서 정규 표현식을 많이 사용\n",
        "* 파이썬에서는 정규 표현식을 지원하는 `re` 패키지 제공"
      ]
    },
    {
      "cell_type": "markdown",
      "metadata": {
        "id": "lLT-dbGQ1NSe"
      },
      "source": [
        "* 정규 표현식 문법\n",
        "  \n",
        "| 특수문자 | 설명 |\n",
        "| - | - |\n",
        "| `.` | 앞의 문자 1개를 표현 |\n",
        "| `?` | 문자 한개를 표현하나 존재할 수도, 존재하지 않을 수도 있음(0개 또는 1개) |\n",
        "| `*` | 앞의 문자가 0개 이상 |\n",
        "| `+` | 앞의 문자가 최소 1개 이상 |\n",
        "| `^` | 뒤의 문자로 문자열이 시작 |\n",
        "| `\\$` | 앞의 문자로 문자열이 끝남 |\n",
        "| `\\{n\\}` | `n`번만큼 반복 |\n",
        "| `\\{n1, n2\\}` | `n1` 이상, `n2` 이하만큼 반복, n2를 지정하지 않으면 `n1` 이상만 반복 |\n",
        "| `\\[ abc \\]` | 안에 문자들 중 한 개의 문자와 매치, a-z처럼 범위도 지정 가능 |\n",
        "| `\\[ ^a \\]` | 해당 문자를 제외하고 매치 |\n",
        "| `a\\|b` | `a` 또는 `b`를 나타냄 |"
      ]
    },
    {
      "cell_type": "markdown",
      "metadata": {
        "id": "JGv0DLZu1PqE"
      },
      "source": [
        "* 정규 표현식에 자주 사용하는 역슬래시(\\\\)를 이용한 문자 규칙\n",
        "\n",
        "| 문자 | 설명 |\n",
        "| - | - |\n",
        "| `\\\\` | 역슬래시 자체를 의미 |\n",
        "| `\\d` | 모든 숫자를 의미, [0-9]와 동일 |\n",
        "| `\\D` | 숫자를 제외한 모든 문자를 의미, [^0-9]와 동일 |\n",
        "| `\\s` | 공백을 의미, [ \\t\\n\\r\\f\\v]와 동일|\n",
        "| `\\S` | 공백을 제외한 모든 문자를 의미, [^ \\t\\n\\r\\f\\v]와 동일 |\n",
        "| `\\w` | 문자와 숫자를 의미, [a-zA-Z0-9]와 동일 |\n",
        "| `\\W` | 문자와 숫자를 제외한 다른 문자를 의미, [^a-zA-Z0-9]와 동일 |"
      ]
    },
    {
      "cell_type": "markdown",
      "metadata": {
        "id": "CEIH8rWo1bJf"
      },
      "source": [
        "#### match\n",
        "\n",
        "* 컴파일한 정규 표현식을 이용해 문자열이 정규 표현식과 맞는지 검사"
      ]
    },
    {
      "cell_type": "code",
      "execution_count": 15,
      "metadata": {
        "id": "V8UD0NCw8UVm"
      },
      "outputs": [
        {
          "name": "stdout",
          "output_type": "stream",
          "text": [
            "<re.Match object; span=(0, 3), match='abc'>\n",
            "None\n",
            "None\n"
          ]
        }
      ],
      "source": [
        "import re\n",
        "\n",
        "check = 'ab.'\n",
        "\n",
        "print(re.match(check, 'abc'))\n",
        "print(re.match(check, 'c'))\n",
        "print(re.match(check, 'ab'))"
      ]
    },
    {
      "cell_type": "markdown",
      "metadata": {
        "id": "lICVJ-q_1c_M"
      },
      "source": [
        "#### compile\n",
        "\n",
        "* compile을 사용하면 여러 번 사용할 경우 일반 사용보다 더 빠른 속도를 보임\n",
        "* compile을 통해 정규 표현식을 사용할 경우 `re`가 아닌 컴파일한 객체 이름을 통해 사용해야 함\n"
      ]
    },
    {
      "cell_type": "code",
      "execution_count": 16,
      "metadata": {
        "id": "jDTSl5S31wms"
      },
      "outputs": [
        {
          "name": "stdout",
          "output_type": "stream",
          "text": [
            "일반 사용시 소요 시간:  0.0019335746765136719\n",
            "컴파일 사용시 소요 시간:  0.0010094642639160156\n"
          ]
        }
      ],
      "source": [
        "import time\n",
        "\n",
        "normal_s_time = time.time()\n",
        "r = 'ab.'\n",
        "for i in range(1000):\n",
        "\tre.match(check, 'abc')\n",
        "\n",
        "print('일반 사용시 소요 시간: ', time.time() - normal_s_time)\n",
        "\n",
        "compile_s_time = time.time()\n",
        "r = re.compile('ab.')\n",
        "for i in range(1000):\n",
        "\tr.match(check)\n",
        "\n",
        "print('컴파일 사용시 소요 시간: ', time.time() - compile_s_time)\n"
      ]
    },
    {
      "cell_type": "markdown",
      "metadata": {
        "id": "Z6OcEzN81fNV"
      },
      "source": [
        "#### search\n",
        "\n",
        "* match와 다르게, search는 문자열의 전체를 검사"
      ]
    },
    {
      "cell_type": "code",
      "execution_count": 17,
      "metadata": {
        "id": "Mg1iU0Kg1w70"
      },
      "outputs": [
        {
          "name": "stdout",
          "output_type": "stream",
          "text": [
            "<re.Match object; span=(0, 1), match='a'>\n",
            "None\n",
            "None\n",
            "<re.Match object; span=(0, 2), match='ab'>\n"
          ]
        }
      ],
      "source": [
        "check = 'ab?'\n",
        "\n",
        "print(re.search('a', check))\n",
        "print(re.match('kkkab', check))\n",
        "print(re.search('kkkab', check))\n",
        "print(re.match('ab', check))"
      ]
    },
    {
      "cell_type": "markdown",
      "metadata": {
        "id": "Nmkvc1741g5P"
      },
      "source": [
        "#### split\n",
        "\n",
        "* 정규표현식에 해당하는 문자열을 기준으로 문자열을 나눔"
      ]
    },
    {
      "cell_type": "code",
      "execution_count": 18,
      "metadata": {
        "id": "6bLf5Hgs1xZk"
      },
      "outputs": [
        {
          "name": "stdout",
          "output_type": "stream",
          "text": [
            "['abc', 'abbc', 'abcbab']\n",
            "['ab', ' abb', ' ab', 'bab']\n",
            "['s', 'abc ', 'v', 's ', 'sss ', 'a']\n"
          ]
        }
      ],
      "source": [
        "r = re.compile(' ')\n",
        "print(r.split('abc abbc abcbab'))\n",
        "\n",
        "r = re.compile('c')\n",
        "print(r.split('abc abbc abcbab'))\n",
        "\n",
        "r = re.compile('[1-9]')\n",
        "print(r.split('s1abc 2v3s 4sss 5a'))"
      ]
    },
    {
      "cell_type": "markdown",
      "metadata": {
        "id": "fTor-yg_1h49"
      },
      "source": [
        "#### sub\n",
        "\n",
        "* 정규 표현식과 일치하는 부분을 다른 문자열로 교체\n"
      ]
    },
    {
      "cell_type": "code",
      "execution_count": 87,
      "metadata": {
        "id": "ZlqOk9DY1xtF"
      },
      "outputs": [
        {
          "name": "stdout",
          "output_type": "stream",
          "text": [
            "111111\n",
            "abc1defg\n"
          ]
        }
      ],
      "source": [
        "print(re.sub('[a-z]', '1', 'abdefg'))\n",
        "# a-z 안에 abcdefg가 있는 것을 1로 교체\n",
        "\n",
        "print(re.sub('[^a-z]', '1', 'abc defg'))\n",
        "# 매칭이 되지 않기 때문에 기존 문자열을 그대로 리턴"
      ]
    },
    {
      "cell_type": "markdown",
      "metadata": {
        "id": "BUzY6Vz31i8U"
      },
      "source": [
        "#### findall\n",
        "\n",
        "* 컴파일한 정규 표현식을 이용해 정규 표현식과 맞는 모든 문자(열)을 리스트로 반환\n"
      ]
    },
    {
      "cell_type": "code",
      "execution_count": 20,
      "metadata": {
        "id": "Osi3UYYv1yHP"
      },
      "outputs": [
        {
          "name": "stdout",
          "output_type": "stream",
          "text": [
            "['1', '2', '3', '4']\n",
            "['!', '@', '@', '#']\n"
          ]
        }
      ],
      "source": [
        "print(re.findall('[\\d]', '1ab 2cd 3ef 4g')) # /d : 전체 숫자\n",
        "\n",
        "print(re.findall('[\\W]', '!abcd@@#'))\n"
      ]
    },
    {
      "cell_type": "markdown",
      "metadata": {
        "id": "NxLLmwJu1kTt"
      },
      "source": [
        "#### finditer\n",
        "\n",
        "* 컴파일한 정규 표현식을 이용해 정규 표현식과 맞는 모든 문자(열)을 `iterator` 객체로 반환\n",
        "* `iterator` 객체를 이용하면 생성된 객체를 하나씩 자동으로 가져올 수 있어 처리가 간편함"
      ]
    },
    {
      "cell_type": "code",
      "execution_count": 21,
      "metadata": {
        "id": "6NOFG3Hy1ycd"
      },
      "outputs": [
        {
          "name": "stdout",
          "output_type": "stream",
          "text": [
            "<callable_iterator object at 0x000001A990D773A0>\n",
            "<re.Match object; span=(0, 1), match='1'>\n",
            "<re.Match object; span=(4, 5), match='2'>\n",
            "<re.Match object; span=(8, 9), match='3'>\n",
            "<re.Match object; span=(12, 13), match='4'>\n",
            "<callable_iterator object at 0x000001A990D77310>\n",
            "<re.Match object; span=(0, 1), match='!'>\n",
            "<re.Match object; span=(5, 6), match='@'>\n",
            "<re.Match object; span=(6, 7), match='@'>\n",
            "<re.Match object; span=(7, 8), match='#'>\n"
          ]
        }
      ],
      "source": [
        "iter1 = re.finditer('[\\d]', '1ab 2cd 3ef 4g')\n",
        "print(iter1)\n",
        "for i in iter1:\n",
        "\tprint(i)\n",
        "\n",
        "iter2 =re.finditer('[\\W]', '!abcd@@#')\n",
        "print(iter2)\n",
        "for i in iter2:\n",
        "\tprint(i)\n",
        "\n"
      ]
    },
    {
      "cell_type": "markdown",
      "metadata": {
        "id": "Sn4C67oivxxN"
      },
      "source": [
        "### 토큰화(Tokenization)"
      ]
    },
    {
      "cell_type": "markdown",
      "metadata": {
        "id": "eqPZHQZPzFvc"
      },
      "source": [
        "* 특수문자에 대한 처리\n",
        "\n",
        "  + 단어에 일반적으로 사용되는 알파벳, 숫자와는 다르게 특수문자는 별도의 처리가 필요            \n",
        "  + 일괄적으로 단어의 특수문자를 제거하는 방법도 있지만 특수문자가 단어에 특별한 의미를 가질 때 이를 학습에 반영시키지 못할 수도 있음\n",
        "  + 특수문자에 대한 일괄적인 제거보다는 데이터의 특성을 파악하고, 처리를 하는 것이 중요\n"
      ]
    },
    {
      "cell_type": "markdown",
      "metadata": {
        "id": "FrZTwnlTyzYV"
      },
      "source": [
        "* 특정 단어에 대한 토큰 분리 방법\n",
        "\n",
        "  + 한 단어지만 토큰으로 분리할 때 판단되는 문자들로 이루어진 we're, United Kingdom 등의 단어는 어떻게 분리해야 할지 선택이 필요   \n",
        "  + we're은 한 단어이나 분리해도 단어의 의미에 별 영향을 끼치진 않지만 United Kingdom은 두 단어가 모여 특정 의미를 가리켜 분리해선 안됨\n",
        "  + 사용자가 단어의 특성을 고려해 토큰을 분리하는 것이 학습에 유리"
      ]
    },
    {
      "cell_type": "markdown",
      "metadata": {
        "id": "U9_k9rA6v0KM"
      },
      "source": [
        "#### 단어 토큰화"
      ]
    },
    {
      "cell_type": "markdown",
      "metadata": {
        "id": "t02uSgcSv6IQ"
      },
      "source": [
        "* 파이썬 내장 함수인 `split`을 활용해 단어 토큰화\n",
        "* 공백을 기준으로 단어를 분리"
      ]
    },
    {
      "cell_type": "code",
      "execution_count": 22,
      "metadata": {
        "id": "bV6CNv1Sv62F"
      },
      "outputs": [
        {
          "data": {
            "text/plain": [
              "['Time', 'is', 'gold']"
            ]
          },
          "execution_count": 22,
          "metadata": {},
          "output_type": "execute_result"
        }
      ],
      "source": [
        "sentence = 'Time is gold'\n",
        "tokens = [x for x in sentence.split(' ')]\n",
        "\n",
        "tokens"
      ]
    },
    {
      "cell_type": "markdown",
      "metadata": {
        "id": "x_PDCM7YwEi9"
      },
      "source": [
        "* 토큰화는 `nltk` 패키지의 `tokenize` 모듈을 사용해 손쉽게 구현 가능\n",
        "* 단어 토큰화는 `word_tokenize()` 함수를 사용해 구현 가능"
      ]
    },
    {
      "cell_type": "code",
      "execution_count": 23,
      "metadata": {
        "id": "isgXAhV7wEo7"
      },
      "outputs": [
        {
          "name": "stderr",
          "output_type": "stream",
          "text": [
            "[nltk_data] Downloading package punkt to\n",
            "[nltk_data]     C:\\Users\\jiwon\\AppData\\Roaming\\nltk_data...\n",
            "[nltk_data]   Package punkt is already up-to-date!\n"
          ]
        },
        {
          "data": {
            "text/plain": [
              "True"
            ]
          },
          "execution_count": 23,
          "metadata": {},
          "output_type": "execute_result"
        }
      ],
      "source": [
        "import nltk\n",
        "\n",
        "nltk.download('punkt')"
      ]
    },
    {
      "cell_type": "code",
      "execution_count": 24,
      "metadata": {
        "id": "vXkXYwoywHAl"
      },
      "outputs": [
        {
          "data": {
            "text/plain": [
              "['Time', 'is', 'gold']"
            ]
          },
          "execution_count": 24,
          "metadata": {},
          "output_type": "execute_result"
        }
      ],
      "source": [
        "# split 하는 것보다 nltk에 있는 tokenize를 사용하는 것이 좋음\n",
        "from nltk.tokenize import word_tokenize\n",
        "\n",
        "tokens = word_tokenize(sentence)\n",
        "\n",
        "tokens"
      ]
    },
    {
      "cell_type": "markdown",
      "metadata": {
        "id": "VcmIjFyRwJpW"
      },
      "source": [
        "#### 문장 토큰화"
      ]
    },
    {
      "cell_type": "markdown",
      "metadata": {
        "id": "7Jkvs6Jov7QF"
      },
      "source": [
        "* 문장 토큰화는 줄바꿈 문자('\\n')를 기준으로 문장을 분리"
      ]
    },
    {
      "cell_type": "code",
      "execution_count": 25,
      "metadata": {
        "id": "MkJ60tlTv7Ux"
      },
      "outputs": [
        {
          "name": "stdout",
          "output_type": "stream",
          "text": [
            "The world is a beautiful book.\n",
            "But of little use to him who cannot read it.\n"
          ]
        },
        {
          "data": {
            "text/plain": [
              "['The world is a beautiful book.',\n",
              " 'But of little use to him who cannot read it.']"
            ]
          },
          "execution_count": 25,
          "metadata": {},
          "output_type": "execute_result"
        }
      ],
      "source": [
        "sentences = 'The world is a beautiful book.\\nBut of little use to him who cannot read it.'\n",
        "\n",
        "print(sentences)\n",
        "\n",
        "tokens = [x for x in sentences.split('\\n')]\n",
        "tokens"
      ]
    },
    {
      "cell_type": "markdown",
      "metadata": {
        "id": "nDSxHUHTwVzG"
      },
      "source": [
        "* 문장 토큰화는 `sent_tokenize()` 함수를 사용해 구현 가능"
      ]
    },
    {
      "cell_type": "code",
      "execution_count": 26,
      "metadata": {
        "id": "0oR8iHWiwV6f"
      },
      "outputs": [
        {
          "data": {
            "text/plain": [
              "['The world is a beautiful book.',\n",
              " 'But of little use to him who cannot read it.']"
            ]
          },
          "execution_count": 26,
          "metadata": {},
          "output_type": "execute_result"
        }
      ],
      "source": [
        "from nltk.tokenize import sent_tokenize\n",
        "\n",
        "tokens = sent_tokenize(sentences)\n",
        "\n",
        "tokens"
      ]
    },
    {
      "cell_type": "markdown",
      "metadata": {
        "id": "1Ca3lOErwbGN"
      },
      "source": [
        "* 문장 토큰화에서는 온점(.)의 처리를 위해 이진 분류기를 사용할 수도 있음\n",
        "* 온점은 문장과 문장을 구분해줄 수도, 문장에 포함된 단어를 구성할 수도 있기 때문에 이를 이진 분류기로 분류해 더욱 좋은 토큰화를 구현할 수도 있음"
      ]
    },
    {
      "cell_type": "markdown",
      "metadata": {
        "id": "hVPmqCnV2Ydt"
      },
      "source": [
        "#### 정규 표현식을 이용한 토큰화"
      ]
    },
    {
      "cell_type": "markdown",
      "metadata": {
        "id": "_hkxXlZb2j0O"
      },
      "source": [
        "* 토큰화 기능을 직접 구현할 수도 있지만 정규 표현식을 이용해 간단하게 구현할 수도 있음\n",
        "* `nltk` 패키지는 정규 표현식을 사용하는 토큰화 도구인 `RegexpTokenizer`를 제공"
      ]
    },
    {
      "cell_type": "code",
      "execution_count": 31,
      "metadata": {
        "id": "9KOEXR7R2cyV"
      },
      "outputs": [
        {
          "data": {
            "text/plain": [
              "['Where', 'there', 's', 'a', 'will', 'there', 's', 'a', 'way']"
            ]
          },
          "execution_count": 31,
          "metadata": {},
          "output_type": "execute_result"
        }
      ],
      "source": [
        "from nltk.tokenize import RegexpTokenizer\n",
        "\n",
        "sentence = 'Where there\\'s a will, there\\'s a way'\n",
        "\n",
        "# \\w 문자와 숫자를 의미\n",
        "# + 앞에 문자가 최소 1개를 의미\n",
        "\n",
        "tokenizer = RegexpTokenizer('[\\w]+')\n",
        "tokens = tokenizer.tokenize(sentence)\n",
        "tokens"
      ]
    },
    {
      "cell_type": "code",
      "execution_count": 29,
      "metadata": {
        "id": "Lhdy85nr2fTt"
      },
      "outputs": [
        {
          "data": {
            "text/plain": [
              "['Where', \"there's\", 'a', 'will,', \"there's\", 'a', 'way']"
            ]
          },
          "execution_count": 29,
          "metadata": {},
          "output_type": "execute_result"
        }
      ],
      "source": [
        "tokenizer = RegexpTokenizer('[\\s]+', gaps=True) # [\\s]+ 특수문자 남김\n",
        "# gaps=True 해당 정규 표현식을 토큰으로 나누기 위한 기준으로 사용한다는 의미\n",
        "\n",
        "tokens = tokenizer.tokenize(sentence)\n",
        "tokens"
      ]
    },
    {
      "cell_type": "markdown",
      "metadata": {
        "id": "KMmCGvTFirsi"
      },
      "source": [
        "#### 케라스를 이용한 토큰화"
      ]
    },
    {
      "cell_type": "code",
      "execution_count": 32,
      "metadata": {
        "id": "pghLPLfSirOJ"
      },
      "outputs": [
        {
          "data": {
            "text/plain": [
              "['where', \"there's\", 'a', 'will', \"there's\", 'a', 'way']"
            ]
          },
          "execution_count": 32,
          "metadata": {},
          "output_type": "execute_result"
        }
      ],
      "source": [
        "# space 기준으로 분할\n",
        "from keras.preprocessing.text import text_to_word_sequence\n",
        "\n",
        "sentence = 'Where there\\'s a will, there\\'s a way'\n",
        "\n",
        "text_to_word_sequence(sentence)"
      ]
    },
    {
      "cell_type": "markdown",
      "metadata": {
        "id": "wOZj2hkzi9Ki"
      },
      "source": [
        "#### TextBlob을 이용한 토큰화"
      ]
    },
    {
      "cell_type": "code",
      "execution_count": 34,
      "metadata": {},
      "outputs": [
        {
          "name": "stdout",
          "output_type": "stream",
          "text": [
            "Collecting textblob\n",
            "  Downloading textblob-0.17.1-py2.py3-none-any.whl (636 kB)\n",
            "     ------------------------------------- 636.8/636.8 kB 19.6 MB/s eta 0:00:00\n",
            "Requirement already satisfied: nltk>=3.1 in c:\\users\\jiwon\\anaconda3\\lib\\site-packages (from textblob) (3.6.5)\n",
            "Requirement already satisfied: click in c:\\users\\jiwon\\anaconda3\\lib\\site-packages (from nltk>=3.1->textblob) (8.0.3)\n",
            "Requirement already satisfied: joblib in c:\\users\\jiwon\\anaconda3\\lib\\site-packages (from nltk>=3.1->textblob) (1.1.0)\n",
            "Requirement already satisfied: regex>=2021.8.3 in c:\\users\\jiwon\\anaconda3\\lib\\site-packages (from nltk>=3.1->textblob) (2021.8.3)\n",
            "Requirement already satisfied: tqdm in c:\\users\\jiwon\\anaconda3\\lib\\site-packages (from nltk>=3.1->textblob) (4.62.3)\n",
            "Requirement already satisfied: colorama in c:\\users\\jiwon\\anaconda3\\lib\\site-packages (from click->nltk>=3.1->textblob) (0.4.4)\n",
            "Installing collected packages: textblob\n",
            "Successfully installed textblob-0.17.1\n",
            "Note: you may need to restart the kernel to use updated packages.\n"
          ]
        },
        {
          "name": "stderr",
          "output_type": "stream",
          "text": [
            "\n",
            "[notice] A new release of pip available: 22.2.2 -> 22.3\n",
            "[notice] To update, run: python.exe -m pip install --upgrade pip\n"
          ]
        }
      ],
      "source": [
        "pip install textblob"
      ]
    },
    {
      "cell_type": "code",
      "execution_count": 35,
      "metadata": {
        "id": "oIDyF_gLi84n"
      },
      "outputs": [
        {
          "data": {
            "text/plain": [
              "WordList(['Where', 'there', \"'s\", 'a', 'will', 'there', \"'s\", 'a', 'way'])"
            ]
          },
          "execution_count": 35,
          "metadata": {},
          "output_type": "execute_result"
        }
      ],
      "source": [
        "from textblob import TextBlob\n",
        "\n",
        "sentence = 'Where there\\'s a will, there\\'s a way'\n",
        "\n",
        "blob = TextBlob(sentence)\n",
        "\n",
        "blob.words"
      ]
    },
    {
      "cell_type": "markdown",
      "metadata": {
        "id": "F5Vvqfynlf9Z"
      },
      "source": [
        "#### 기타 토크나이저\n",
        "\n",
        "* WhiteSpaceTokenizer: 공백을 기준으로 토큰화\n",
        "* WordPunktTokenizer: 텍스트를 알파벳 문자, 숫자, ㅇ라파벳 이외의 문자 리스트로 토큰화\n",
        "* MWETokenizer: MWE는 Multi-Word Expression의 약자로 'republic of korea'와 같이 여러 단어로 이뤄진 특정 그룹을 한 개체로 취급\n",
        "* TweetTokenizer: 트위터에서 사용되는 문장의 토큰화를 위해서 만들어졌으며, 문장 속 감성의 표현과 감정을 다룸"
      ]
    },
    {
      "cell_type": "markdown",
      "metadata": {
        "id": "pQh3deRog1It"
      },
      "source": [
        "### n-gram 추출\n",
        "\n",
        "* n-gram은 n개의 어절이나 음절을 연쇄적으로 분류해 그 빈도를 분석\n",
        "* n=1일 때는 unigram, n=2일 때는 bigram, n=3일 때는 trigram으로 불림"
      ]
    },
    {
      "cell_type": "code",
      "execution_count": 36,
      "metadata": {
        "id": "2Jj0RiGng7bV"
      },
      "outputs": [
        {
          "name": "stdout",
          "output_type": "stream",
          "text": [
            "[('There', 'is'), ('is', 'no'), ('no', 'royal'), ('royal', 'road'), ('road', 'to'), ('to', 'learning')]\n"
          ]
        }
      ],
      "source": [
        "# 여태껏 한 것이 unigram\n",
        "from nltk import ngrams\n",
        "\n",
        "sentence = 'There is no royal road to learning'\n",
        "bigram = list(ngrams(sentence.split(), 2))\n",
        "\n",
        "print(bigram)"
      ]
    },
    {
      "cell_type": "code",
      "execution_count": 37,
      "metadata": {
        "id": "-sEZ6IfGh2q2"
      },
      "outputs": [
        {
          "name": "stdout",
          "output_type": "stream",
          "text": [
            "[('There', 'is', 'no'), ('is', 'no', 'royal'), ('no', 'royal', 'road'), ('royal', 'road', 'to'), ('road', 'to', 'learning')]\n"
          ]
        }
      ],
      "source": [
        "trigram = list(ngrams(sentence.split(), 3))\n",
        "\n",
        "print(trigram)"
      ]
    },
    {
      "cell_type": "code",
      "execution_count": 39,
      "metadata": {
        "id": "0g1yxT62iMvA"
      },
      "outputs": [
        {
          "data": {
            "text/plain": [
              "[WordList(['There', 'is']),\n",
              " WordList(['is', 'no']),\n",
              " WordList(['no', 'royal']),\n",
              " WordList(['royal', 'road']),\n",
              " WordList(['road', 'to']),\n",
              " WordList(['to', 'learning'])]"
            ]
          },
          "execution_count": 39,
          "metadata": {},
          "output_type": "execute_result"
        }
      ],
      "source": [
        "from textblob import TextBlob\n",
        "\n",
        "blob = TextBlob(sentence)\n",
        "blob.ngrams(n=2)"
      ]
    },
    {
      "cell_type": "code",
      "execution_count": 40,
      "metadata": {
        "id": "2hkjduP0idli"
      },
      "outputs": [
        {
          "data": {
            "text/plain": [
              "[WordList(['There', 'is', 'no']),\n",
              " WordList(['is', 'no', 'royal']),\n",
              " WordList(['no', 'royal', 'road']),\n",
              " WordList(['royal', 'road', 'to']),\n",
              " WordList(['road', 'to', 'learning'])]"
            ]
          },
          "execution_count": 40,
          "metadata": {},
          "output_type": "execute_result"
        }
      ],
      "source": [
        "blob.ngrams(n=3)"
      ]
    },
    {
      "cell_type": "markdown",
      "metadata": {
        "id": "1iRYvPrOZbGQ"
      },
      "source": [
        "### PoS(Parts of Speech) 태깅 "
      ]
    },
    {
      "cell_type": "markdown",
      "metadata": {
        "id": "2xRajzx4_5ng"
      },
      "source": [
        "* PoS는 품사를 의미하며, PoS 태깅은 문장 내에서 단어에 해당하는 각 품사를 태깅"
      ]
    },
    {
      "cell_type": "code",
      "execution_count": 41,
      "metadata": {
        "id": "Vo4n1kbt_4Pt"
      },
      "outputs": [
        {
          "name": "stderr",
          "output_type": "stream",
          "text": [
            "[nltk_data] Downloading package punkt to\n",
            "[nltk_data]     C:\\Users\\jiwon\\AppData\\Roaming\\nltk_data...\n",
            "[nltk_data]   Package punkt is already up-to-date!\n"
          ]
        }
      ],
      "source": [
        "import nltk\n",
        "\n",
        "nltk.download('punkt')\n",
        "\n",
        "from nltk import word_tokenize"
      ]
    },
    {
      "cell_type": "code",
      "execution_count": 43,
      "metadata": {
        "id": "OcVS13f8ATMT"
      },
      "outputs": [
        {
          "data": {
            "text/plain": [
              "['Think',\n",
              " 'like',\n",
              " 'man',\n",
              " 'of',\n",
              " 'action',\n",
              " 'and',\n",
              " 'act',\n",
              " 'like',\n",
              " 'man',\n",
              " 'of',\n",
              " 'thought',\n",
              " '.']"
            ]
          },
          "execution_count": 43,
          "metadata": {},
          "output_type": "execute_result"
        }
      ],
      "source": [
        "words = word_tokenize('Think like man of action and act like man of thought.')\n",
        "words"
      ]
    },
    {
      "cell_type": "code",
      "execution_count": 46,
      "metadata": {
        "id": "YvoGzfP2AjqJ"
      },
      "outputs": [
        {
          "name": "stderr",
          "output_type": "stream",
          "text": [
            "[nltk_data] Downloading package averaged_perceptron_tagger to\n",
            "[nltk_data]     C:\\Users\\jiwon\\AppData\\Roaming\\nltk_data...\n",
            "[nltk_data]   Unzipping taggers\\averaged_perceptron_tagger.zip.\n"
          ]
        },
        {
          "data": {
            "text/plain": [
              "[('Think', 'VBP'),\n",
              " ('like', 'IN'),\n",
              " ('man', 'NN'),\n",
              " ('of', 'IN'),\n",
              " ('action', 'NN'),\n",
              " ('and', 'CC'),\n",
              " ('act', 'NN'),\n",
              " ('like', 'IN'),\n",
              " ('man', 'NN'),\n",
              " ('of', 'IN'),\n",
              " ('thought', 'NN'),\n",
              " ('.', '.')]"
            ]
          },
          "execution_count": 46,
          "metadata": {},
          "output_type": "execute_result"
        }
      ],
      "source": [
        "nltk.download('averaged_perceptron_tagger')\n",
        "\n",
        "nltk.pos_tag(words)"
      ]
    },
    {
      "cell_type": "code",
      "execution_count": 47,
      "metadata": {
        "id": "5AaI3nFwB_qL"
      },
      "outputs": [
        {
          "data": {
            "text/plain": [
              "[('A', 'DT'),\n",
              " ('rolling', 'VBG'),\n",
              " ('stone', 'NN'),\n",
              " ('gathers', 'NNS'),\n",
              " ('no', 'DT'),\n",
              " ('moss', 'NN')]"
            ]
          },
          "execution_count": 47,
          "metadata": {},
          "output_type": "execute_result"
        }
      ],
      "source": [
        "nltk.pos_tag(word_tokenize('A rolling stone gathers no moss'))"
      ]
    },
    {
      "cell_type": "markdown",
      "metadata": {
        "id": "AWUanibELmmi"
      },
      "source": [
        "* PoS 태그 리스트"
      ]
    },
    {
      "cell_type": "markdown",
      "metadata": {
        "id": "8RGD-0sVAwaV"
      },
      "source": [
        "| Number | Tag | Description | 설명 |\n",
        "| -- | -- | -- | -- |\n",
        "| 1 | `CC` | Coordinating conjunction |\n",
        "| 2 | `CD` | Cardinal number |\n",
        "| 3 | `DT` | Determiner | 한정사\n",
        "| 4 | `EX` | Existential there |\n",
        "| 5 | `FW` | Foreign word | 외래어 |\n",
        "| 6 | `IN` | Preposition or subordinating conjunction | 전치사 또는 종속 접속사 |\n",
        "| 7 | `JJ` | Adjective | 형용사 |\n",
        "| 8 | `JJR` | Adjective, comparative | 헝용사, 비교급 |\n",
        "| 9 | `JJS` | Adjective, superlative | 형용사, 최상급 |\n",
        "| 10 | `LS` | List item marker |\n",
        "| 11 | `MD` | Modal |\n",
        "| 12 | `NN` | Noun, singular or mass | 명사, 단수형 |\n",
        "| 13 | `NNS` | Noun, plural | 명사, 복수형 |\n",
        "| 14 | `NNP` | Proper noun, singular | 고유명사, 단수형 |\n",
        "| 15 | `NNPS` | Proper noun, plural | 고유명사, 복수형 |\n",
        "| 16 | `PDT` | Predeterminer | 전치한정사 |\n",
        "| 17 | `POS` | Possessive ending | 소유형용사 |\n",
        "| 18 | `PRP` | Personal pronoun | 인칭 대명사 |\n",
        "| 19 | `PRP$` | Possessive pronoun | 소유 대명사 |\n",
        "| 20 | `RB` | Adverb | 부사 |\n",
        "| 21 | `RBR` | Adverb, comparative | 부사, 비교급 |\n",
        "| 22 | `RBS` | Adverb, superlative | 부사, 최상급 |\n",
        "| 23 | `RP` | Particle |\n",
        "| 24 | `SYM` | Symbol | 기호\n",
        "| 25 | `TO` | to |\n",
        "| 26 | `UH` | Interjection | 감탄사 |\n",
        "| 27 | `VB` | Verb, base form | 동사, 원형 |\n",
        "| 28 | `VBD` | Verb, past tense | 동사, 과거형 |\n",
        "| 29 | `VBG` | Verb, gerund or present participle | 동사, 현재분사 |\n",
        "| 30 | `VBN` | Verb, past participle | 동사, 과거분사 |\n",
        "| 31 | `VBP` | Verb, non-3rd person singular present | 동사, 비3인칭 단수 |\n",
        "| 32 | `VBZ` | Verb, 3rd person singular present | 동사, 3인칭 단수 |\n",
        "| 33 | `WDT` | Wh-determiner |\n",
        "| 34 | `WP` | Wh-pronoun |\n",
        "| 35 | `WP$` | Possessive wh-pronoun |\n",
        "| 36 | `WRB` | Wh-adverb |\n"
      ]
    },
    {
      "cell_type": "markdown",
      "metadata": {
        "id": "fmDuyhjxugFN"
      },
      "source": [
        "### 불용어 제거"
      ]
    },
    {
      "cell_type": "markdown",
      "metadata": {
        "id": "Fj2rvWzwuy7o"
      },
      "source": [
        "* 영어의 전치사(on, in), 한국어의 조사(을, 를) 등은 분석에 필요하지 않은 경우가 많음\n",
        "* 길이가 짧은 단어, 등장 빈도 수가 적은 단어들도 분석에 큰 영향을 주지 않음\n",
        "* 일반적으로 사용되는 도구들은 해당 단어들을 제거해주지만 완벽하게 제거되지는 않음\n",
        "* 사용자가 불용어 사전을 만들어 해당 단어들을 제거하는 것이 좋음\n",
        "* 도구들이 걸러주지 않는 전치사, 조사 등을 불용어 사전을 만들어 불필요한 단어들을 제거\n"
      ]
    },
    {
      "cell_type": "code",
      "execution_count": 48,
      "metadata": {
        "id": "hjFp9u9quy_t"
      },
      "outputs": [
        {
          "data": {
            "text/plain": [
              "['on', 'in', 'the']"
            ]
          },
          "execution_count": 48,
          "metadata": {},
          "output_type": "execute_result"
        }
      ],
      "source": [
        "stop_words = 'on in the'\n",
        "stop_words = stop_words.split(' ')\n",
        "stop_words"
      ]
    },
    {
      "cell_type": "code",
      "execution_count": 50,
      "metadata": {
        "id": "9nKwwtR6uzCr"
      },
      "outputs": [
        {
          "data": {
            "text/plain": [
              "['singer', 'stage']"
            ]
          },
          "execution_count": 50,
          "metadata": {},
          "output_type": "execute_result"
        }
      ],
      "source": [
        "sentence = 'singer on the stage'\n",
        "sentence = sentence.split(' ')\n",
        "nouns = []\n",
        "\n",
        "for noun in sentence:\n",
        "\tif noun not in stop_words:\n",
        "\t\tnouns.append(noun)\n",
        "\n",
        "nouns"
      ]
    },
    {
      "cell_type": "markdown",
      "metadata": {
        "id": "ykTS2yeMMEXF"
      },
      "source": [
        "* `nltk` 패키지에 불용어 리스트 사용"
      ]
    },
    {
      "cell_type": "code",
      "execution_count": 51,
      "metadata": {
        "id": "XlDpO3e-MHwa"
      },
      "outputs": [
        {
          "name": "stderr",
          "output_type": "stream",
          "text": [
            "[nltk_data] Downloading package stopwords to\n",
            "[nltk_data]     C:\\Users\\jiwon\\AppData\\Roaming\\nltk_data...\n",
            "[nltk_data]   Unzipping corpora\\stopwords.zip.\n"
          ]
        }
      ],
      "source": [
        "import nltk\n",
        "nltk.download('stopwords')\n",
        "\n",
        "from nltk import word_tokenize\n",
        "from nltk.corpus import stopwords"
      ]
    },
    {
      "cell_type": "code",
      "execution_count": 52,
      "metadata": {
        "id": "1jC408N2MRR0"
      },
      "outputs": [
        {
          "name": "stdout",
          "output_type": "stream",
          "text": [
            "['i', 'me', 'my', 'myself', 'we', 'our', 'ours', 'ourselves', 'you', \"you're\", \"you've\", \"you'll\", \"you'd\", 'your', 'yours', 'yourself', 'yourselves', 'he', 'him', 'his', 'himself', 'she', \"she's\", 'her', 'hers', 'herself', 'it', \"it's\", 'its', 'itself', 'they', 'them', 'their', 'theirs', 'themselves', 'what', 'which', 'who', 'whom', 'this', 'that', \"that'll\", 'these', 'those', 'am', 'is', 'are', 'was', 'were', 'be', 'been', 'being', 'have', 'has', 'had', 'having', 'do', 'does', 'did', 'doing', 'a', 'an', 'the', 'and', 'but', 'if', 'or', 'because', 'as', 'until', 'while', 'of', 'at', 'by', 'for', 'with', 'about', 'against', 'between', 'into', 'through', 'during', 'before', 'after', 'above', 'below', 'to', 'from', 'up', 'down', 'in', 'out', 'on', 'off', 'over', 'under', 'again', 'further', 'then', 'once', 'here', 'there', 'when', 'where', 'why', 'how', 'all', 'any', 'both', 'each', 'few', 'more', 'most', 'other', 'some', 'such', 'no', 'nor', 'not', 'only', 'own', 'same', 'so', 'than', 'too', 'very', 's', 't', 'can', 'will', 'just', 'don', \"don't\", 'should', \"should've\", 'now', 'd', 'll', 'm', 'o', 're', 've', 'y', 'ain', 'aren', \"aren't\", 'couldn', \"couldn't\", 'didn', \"didn't\", 'doesn', \"doesn't\", 'hadn', \"hadn't\", 'hasn', \"hasn't\", 'haven', \"haven't\", 'isn', \"isn't\", 'ma', 'mightn', \"mightn't\", 'mustn', \"mustn't\", 'needn', \"needn't\", 'shan', \"shan't\", 'shouldn', \"shouldn't\", 'wasn', \"wasn't\", 'weren', \"weren't\", 'won', \"won't\", 'wouldn', \"wouldn't\"]\n"
          ]
        }
      ],
      "source": [
        "stop_words = stopwords.words('english')\n",
        "\n",
        "print(stop_words)"
      ]
    },
    {
      "cell_type": "code",
      "execution_count": 53,
      "metadata": {
        "id": "zShCTozjMYWG"
      },
      "outputs": [
        {
          "name": "stdout",
          "output_type": "stream",
          "text": [
            "['If', 'you', 'do', 'not', 'walk', 'today', ',', 'you', 'will', 'have', 'to', 'run', 'tomorrow', '.']\n"
          ]
        }
      ],
      "source": [
        "s = 'If you do not walk today, you will have to run tomorrow.'\n",
        "\n",
        "words = word_tokenize(s)\n",
        "print(words)"
      ]
    },
    {
      "cell_type": "code",
      "execution_count": 54,
      "metadata": {
        "id": "qd_gC78EOPdv"
      },
      "outputs": [
        {
          "name": "stdout",
          "output_type": "stream",
          "text": [
            "['If', 'walk', 'today', ',', 'run', 'tomorrow', '.']\n"
          ]
        }
      ],
      "source": [
        "no_stopwords = []\n",
        "\n",
        "for w in words:\n",
        "\tif w not in stop_words:\n",
        "\t\tno_stopwords.append(w)\n",
        "\n",
        "print(no_stopwords)"
      ]
    },
    {
      "cell_type": "markdown",
      "metadata": {
        "id": "LXO6E3E--gQy"
      },
      "source": [
        "### 철자 교정"
      ]
    },
    {
      "cell_type": "markdown",
      "metadata": {
        "id": "AM6lTU2w-q7A"
      },
      "source": [
        "* 텍스트에 오탈자가 존재하는 경우가 있음\n",
        "* 예를 들어, 단어 'apple'을 'aplpe'과 같이 철자 순서가 바뀌거나 spple 같이 철자가 틀릴 수 있음\n",
        "* 사람이 적절한 추정을 통해 이해하는데는 문제가 없지만, 컴퓨터는 이러한 단어를 그대로 받아들여 처리가 필요\n",
        "* 철자 교정 알고리즘은 이미 개발되어 워드 프로세서나 다양한 서비스에서 많이 적용됨\n",
        "됨"
      ]
    },
    {
      "cell_type": "code",
      "execution_count": 55,
      "metadata": {
        "id": "m3hUcYaYRwVP"
      },
      "outputs": [
        {
          "name": "stdout",
          "output_type": "stream",
          "text": [
            "Collecting autocorrect\n",
            "  Downloading autocorrect-2.6.1.tar.gz (622 kB)\n",
            "     -------------------------------------- 622.8/622.8 kB 9.9 MB/s eta 0:00:00\n",
            "  Preparing metadata (setup.py): started\n",
            "  Preparing metadata (setup.py): finished with status 'done'\n",
            "Building wheels for collected packages: autocorrect\n",
            "  Building wheel for autocorrect (setup.py): started\n",
            "  Building wheel for autocorrect (setup.py): finished with status 'done'\n",
            "  Created wheel for autocorrect: filename=autocorrect-2.6.1-py3-none-any.whl size=622381 sha256=6aef1605c97a6211d725097567177458f1c922652bedd1a6d001dd4f07803031\n",
            "  Stored in directory: c:\\users\\jiwon\\appdata\\local\\pip\\cache\\wheels\\ab\\0f\\23\\3c010c3fd877b962146e7765f9e9b08026cac8b035094c5750\n",
            "Successfully built autocorrect\n",
            "Installing collected packages: autocorrect\n",
            "Successfully installed autocorrect-2.6.1\n"
          ]
        },
        {
          "name": "stderr",
          "output_type": "stream",
          "text": [
            "\n",
            "[notice] A new release of pip available: 22.2.2 -> 22.3.1\n",
            "[notice] To update, run: python.exe -m pip install --upgrade pip\n"
          ]
        }
      ],
      "source": [
        "!pip install autocorrect\n",
        "\n",
        "from autocorrect import Speller"
      ]
    },
    {
      "cell_type": "code",
      "execution_count": 56,
      "metadata": {
        "id": "4H4TaYE7REcI"
      },
      "outputs": [
        {
          "name": "stdout",
          "output_type": "stream",
          "text": [
            "people\n",
            "people\n",
            "people\n"
          ]
        }
      ],
      "source": [
        "spell = Speller('en')\n",
        "\n",
        "print(spell('peoplle'))\n",
        "print(spell('peope'))\n",
        "print(spell('peopae'))"
      ]
    },
    {
      "cell_type": "code",
      "execution_count": 57,
      "metadata": {
        "id": "VO03TM_KSL4V"
      },
      "outputs": [
        {
          "name": "stdout",
          "output_type": "stream",
          "text": [
            "['Early', 'biird', 'catchess', 'the', 'womm', '.']\n",
            "Early bird catches the worm .\n"
          ]
        }
      ],
      "source": [
        "s= word_tokenize('Early biird catchess the womm.')\n",
        "print(s)\n",
        "\n",
        "ss = ' '.join([spell(s) for s in s])\n",
        "print(ss)"
      ]
    },
    {
      "cell_type": "markdown",
      "metadata": {
        "id": "H4_svyI2myE3"
      },
      "source": [
        "### 언어의 단수화와 복수화"
      ]
    },
    {
      "cell_type": "code",
      "execution_count": 59,
      "metadata": {
        "id": "3tDE8Aeumxml"
      },
      "outputs": [
        {
          "name": "stdout",
          "output_type": "stream",
          "text": [
            "['apples', 'bananas', 'oranges']\n",
            "['apple', 'banana', 'orange']\n"
          ]
        }
      ],
      "source": [
        "from textblob import TextBlob\n",
        "\n",
        "words = 'apples bananas oranges'\n",
        "tb = TextBlob(words)\n",
        "\n",
        "print(tb.words)\n",
        "print(tb.words.singularize())"
      ]
    },
    {
      "cell_type": "code",
      "execution_count": 61,
      "metadata": {
        "id": "WLqLAg6Snfi8"
      },
      "outputs": [
        {
          "name": "stdout",
          "output_type": "stream",
          "text": [
            "['car', 'train', 'airplane']\n",
            "['cars', 'trains', 'airplanes']\n"
          ]
        }
      ],
      "source": [
        "words = 'car train airplane'\n",
        "\n",
        "tb = TextBlob(words)\n",
        "\n",
        "print(tb.words)\n",
        "print(tb.words.pluralize())"
      ]
    },
    {
      "cell_type": "markdown",
      "metadata": {
        "id": "Q-9i7ubNX0mD"
      },
      "source": [
        "### 어간(Stemming) 추출"
      ]
    },
    {
      "cell_type": "code",
      "execution_count": 62,
      "metadata": {
        "id": "3_28SNykTEbf"
      },
      "outputs": [],
      "source": [
        "import nltk\n",
        "\n",
        "stemmer = nltk.stem.PorterStemmer()"
      ]
    },
    {
      "cell_type": "code",
      "execution_count": 63,
      "metadata": {
        "id": "LCwnOPFNTP2v"
      },
      "outputs": [
        {
          "data": {
            "text/plain": [
              "'applic'"
            ]
          },
          "execution_count": 63,
          "metadata": {},
          "output_type": "execute_result"
        }
      ],
      "source": [
        "stemmer.stem('application')"
      ]
    },
    {
      "cell_type": "code",
      "execution_count": 64,
      "metadata": {
        "id": "O6O5VoWcTQuO"
      },
      "outputs": [
        {
          "data": {
            "text/plain": [
              "'begin'"
            ]
          },
          "execution_count": 64,
          "metadata": {},
          "output_type": "execute_result"
        }
      ],
      "source": [
        "stemmer.stem('beginning')"
      ]
    },
    {
      "cell_type": "code",
      "execution_count": 65,
      "metadata": {
        "id": "aHvL3FirTUQO"
      },
      "outputs": [
        {
          "data": {
            "text/plain": [
              "'catch'"
            ]
          },
          "execution_count": 65,
          "metadata": {},
          "output_type": "execute_result"
        }
      ],
      "source": [
        "stemmer.stem('catches')"
      ]
    },
    {
      "cell_type": "code",
      "execution_count": 66,
      "metadata": {
        "id": "4B7VXlfMTiAj"
      },
      "outputs": [
        {
          "data": {
            "text/plain": [
              "'educ'"
            ]
          },
          "execution_count": 66,
          "metadata": {},
          "output_type": "execute_result"
        }
      ],
      "source": [
        "stemmer.stem('education')"
      ]
    },
    {
      "cell_type": "markdown",
      "metadata": {
        "id": "9-zauW83XwJ8"
      },
      "source": [
        "### 표제어(Lemmatization) 추출"
      ]
    },
    {
      "cell_type": "code",
      "execution_count": 68,
      "metadata": {
        "id": "FTHh2W06TlPm"
      },
      "outputs": [
        {
          "name": "stderr",
          "output_type": "stream",
          "text": [
            "[nltk_data] Downloading package wordnet to\n",
            "[nltk_data]     C:\\Users\\jiwon\\AppData\\Roaming\\nltk_data...\n",
            "[nltk_data]   Package wordnet is already up-to-date!\n"
          ]
        }
      ],
      "source": [
        "import nltk\n",
        "nltk.download('wordnet')\n",
        "from nltk.stem.wordnet import WordNetLemmatizer\n",
        "\n",
        "lemmatizer = WordNetLemmatizer()"
      ]
    },
    {
      "cell_type": "code",
      "execution_count": 69,
      "metadata": {
        "id": "LF_jyPwaTzV5"
      },
      "outputs": [
        {
          "data": {
            "text/plain": [
              "'application'"
            ]
          },
          "execution_count": 69,
          "metadata": {},
          "output_type": "execute_result"
        }
      ],
      "source": [
        "lemmatizer.lemmatize('application')"
      ]
    },
    {
      "cell_type": "code",
      "execution_count": 70,
      "metadata": {
        "id": "WrFilM4jWF9p"
      },
      "outputs": [
        {
          "data": {
            "text/plain": [
              "'beginning'"
            ]
          },
          "execution_count": 70,
          "metadata": {},
          "output_type": "execute_result"
        }
      ],
      "source": [
        "lemmatizer.lemmatize('beginning')"
      ]
    },
    {
      "cell_type": "code",
      "execution_count": 71,
      "metadata": {
        "id": "T1pwiZSgWV8Y"
      },
      "outputs": [
        {
          "data": {
            "text/plain": [
              "'catch'"
            ]
          },
          "execution_count": 71,
          "metadata": {},
          "output_type": "execute_result"
        }
      ],
      "source": [
        "lemmatizer.lemmatize('catches')"
      ]
    },
    {
      "cell_type": "code",
      "execution_count": 72,
      "metadata": {
        "id": "MoKJNaJ8WT2x"
      },
      "outputs": [
        {
          "data": {
            "text/plain": [
              "'education'"
            ]
          },
          "execution_count": 72,
          "metadata": {},
          "output_type": "execute_result"
        }
      ],
      "source": [
        "lemmatizer.lemmatize('education')"
      ]
    },
    {
      "cell_type": "markdown",
      "metadata": {
        "id": "YauGaSZHWg3R"
      },
      "source": [
        "### 개체명 인식(Named Entity Recognition)\n",
        "\n"
      ]
    },
    {
      "cell_type": "code",
      "execution_count": 92,
      "metadata": {
        "id": "t5tcQw9FW8fi"
      },
      "outputs": [
        {
          "name": "stderr",
          "output_type": "stream",
          "text": [
            "[nltk_data] Downloading package maxent_ne_chunker to\n",
            "[nltk_data]     C:\\Users\\jiwon\\AppData\\Roaming\\nltk_data...\n",
            "[nltk_data]   Unzipping chunkers\\maxent_ne_chunker.zip.\n",
            "[nltk_data] Downloading package words to\n",
            "[nltk_data]     C:\\Users\\jiwon\\AppData\\Roaming\\nltk_data...\n",
            "[nltk_data]   Package words is already up-to-date!\n"
          ]
        },
        {
          "data": {
            "text/plain": [
              "True"
            ]
          },
          "execution_count": 92,
          "metadata": {},
          "output_type": "execute_result"
        }
      ],
      "source": [
        "import nltk\n",
        "from nltk import word_tokenize\n",
        "nltk.download('maxent_ne_chunker')\n",
        "nltk.download('words')"
      ]
    },
    {
      "cell_type": "code",
      "execution_count": 93,
      "metadata": {
        "id": "WqWjHuthXWp4"
      },
      "outputs": [
        {
          "name": "stdout",
          "output_type": "stream",
          "text": [
            "Rome was not built in a day.\n"
          ]
        }
      ],
      "source": [
        "s = 'Rome was not built in a day.'\n",
        "\n",
        "print(s)"
      ]
    },
    {
      "cell_type": "code",
      "execution_count": 94,
      "metadata": {
        "id": "NnnBqd-YXkwa"
      },
      "outputs": [
        {
          "name": "stdout",
          "output_type": "stream",
          "text": [
            "[('Rome', 'NNP'), ('was', 'VBD'), ('not', 'RB'), ('built', 'VBN'), ('in', 'IN'), ('a', 'DT'), ('day', 'NN'), ('.', '.')]\n"
          ]
        }
      ],
      "source": [
        "tags = nltk.pos_tag(word_tokenize(s))\n",
        "\n",
        "print(tags)"
      ]
    },
    {
      "cell_type": "code",
      "execution_count": 95,
      "metadata": {
        "id": "kjnWKrpPYWax"
      },
      "outputs": [
        {
          "name": "stdout",
          "output_type": "stream",
          "text": [
            "(S (NE Rome/NNP) was/VBD not/RB built/VBN in/IN a/DT day/NN ./.)\n"
          ]
        }
      ],
      "source": [
        "entities = nltk.ne_chunk(tags, binary=True)\n",
        "print(entities)\n",
        "\n",
        "# Rome에 NE라는 태깅이 붙음 - 객체명 인식"
      ]
    },
    {
      "cell_type": "markdown",
      "metadata": {
        "id": "IOVaBRHZauv8"
      },
      "source": [
        "### 단어 중의성(Lexical Ambiguity)"
      ]
    },
    {
      "cell_type": "code",
      "execution_count": 96,
      "metadata": {
        "id": "j9Y7u8Kqawho"
      },
      "outputs": [
        {
          "name": "stdout",
          "output_type": "stream",
          "text": [
            "['I', 'saw', 'bats', '.']\n",
            "Synset('saw.v.01')\n",
            "Synset('squash_racket.n.01')\n"
          ]
        }
      ],
      "source": [
        "import nltk\n",
        "from nltk.wsd import lesk\n",
        "\n",
        "s = 'I saw bats.' # 나는 날카로운 톱으로 야구방망이를 잘랐다. 나는 박쥐를 보았다. 나는 야구방망이를 보았다. 나는 박쥐를 날카로운 톱으로 잘랐다.\n",
        "\n",
        "print(word_tokenize(s))\n",
        "print(lesk(word_tokenize(s), 'saw')) # saw.v.01 동사\n",
        "print(lesk(word_tokenize(s), 'bats')) # squash_racket.n.01 명사로 본다."
      ]
    },
    {
      "cell_type": "markdown",
      "metadata": {
        "id": "FU4T_80TuSdp"
      },
      "source": [
        "## 한국어 처리"
      ]
    },
    {
      "cell_type": "markdown",
      "metadata": {
        "id": "8qeUwjUq3lkH"
      },
      "source": [
        "### 정규표현식"
      ]
    },
    {
      "cell_type": "markdown",
      "metadata": {
        "id": "1HSV73e530v8"
      },
      "source": [
        "* 한국어 정규 표현식도 대부분의 문법은 영어 정규 표현식과 같음\n",
        "* 한국어는 자음과 모음이 분리되어 있기 때문에, 문법을 지정할 때는 자음과 모음을 동시에 고려해야 함"
      ]
    },
    {
      "cell_type": "markdown",
      "metadata": {
        "id": "DKYR7b3U44RM"
      },
      "source": [
        "#### match\n",
        "\n",
        "* 컴파일한 정규 표현식을 이용해 문자열이 정규 표현식과 맞는지 검사"
      ]
    },
    {
      "cell_type": "code",
      "execution_count": 97,
      "metadata": {
        "id": "AgwMiWUe4zJN"
      },
      "outputs": [
        {
          "name": "stdout",
          "output_type": "stream",
          "text": [
            "<re.Match object; span=(0, 1), match='ㅎ'>\n",
            "None\n"
          ]
        }
      ],
      "source": [
        "import re\n",
        "\n",
        "check = '[ㄱ-ㅎ]+'\n",
        "\n",
        "print(re.match(check, 'ㅎ 안녕하세요.'))\n",
        "print(re.match(check, '안녕하세요. ㅎ'))\n"
      ]
    },
    {
      "cell_type": "markdown",
      "metadata": {
        "id": "oVxRcA8Z457T"
      },
      "source": [
        "#### search\n",
        "\n",
        "* match와 다르게, search는 문자열의 전체를 검사"
      ]
    },
    {
      "cell_type": "code",
      "execution_count": 98,
      "metadata": {
        "id": "WWS4rgxq48N7"
      },
      "outputs": [
        {
          "name": "stdout",
          "output_type": "stream",
          "text": [
            "<re.Match object; span=(0, 2), match='ㄱㅏ'>\n",
            "None\n",
            "<re.Match object; span=(2, 4), match='ㄱㅏ'>\n"
          ]
        }
      ],
      "source": [
        "check = '[ㄱ-ㅎ|ㅏ-ㅣ]+'\n",
        "\n",
        "print(re.match(check, 'ㄱㅏ 안녕하세요'))\n",
        "print(re.match(check, '안 ㄱㅏ')) # '안'이 자음,모음이 결합된 형태라서 조건에 안 맞음\n",
        "print(re.search(check, '안 ㄱㅏ'))"
      ]
    },
    {
      "cell_type": "markdown",
      "metadata": {
        "id": "eCWlVO4S48Ts"
      },
      "source": [
        "#### sub\n",
        "\n",
        "* 정규 표현식과 일치하는 부분을 다른 문자열로 교체"
      ]
    },
    {
      "cell_type": "code",
      "execution_count": 101,
      "metadata": {
        "id": "5Kv_oNRs48fU"
      },
      "outputs": [
        {
          "name": "stdout",
          "output_type": "stream",
          "text": [
            "1111111\n",
            "가나다라마바사\n"
          ]
        }
      ],
      "source": [
        "print(re.sub('[가-힣]', '1', '가나다라마바사'))\n",
        "print(re.sub('[^가-힣]', '1', '가나다라마바사'))\n"
      ]
    },
    {
      "cell_type": "markdown",
      "metadata": {
        "id": "Pe_7bBBdvlXQ"
      },
      "source": [
        "### 토큰화(Tokenization)"
      ]
    },
    {
      "cell_type": "markdown",
      "metadata": {
        "id": "6aEfI5YHysxv"
      },
      "source": [
        "* 한국어를 학습 데이터를 사용할 때는 언어의 특성으로 인해 추가로 고려해야 할 사항이 존재\n",
        "* 한국어는 띄어쓰기를 준수하지 않아도 의미가 전달되는 경우가 많아 띄어쓰기가 지켜지지 않을 가능성이 존재\n",
        "* 띄어쓰기가 지켜지지 않으면 정상적인 토큰 분리가 이루어지지 않음\n",
        "* 한국어는 형태소라는 개념이 존재해 추가로 고려해주어야만 함\n",
        "* '그는', '그가' 등의 단어들은 같은 의미를 가리키지만 텍스트 처리에서는 다르게 받아들일 수 있어 처리를 해줘야 함"
      ]
    },
    {
      "cell_type": "markdown",
      "metadata": {
        "id": "765_lRMqwlZg"
      },
      "source": [
        "#### 한국어 자연어 처리 konlpy와 형태소 분석기 MeCab 설치\n",
        "\n",
        "* https://raw.githubusercontent.com/konlpy/konlpy/master/scripts/mecab.sh"
      ]
    },
    {
      "cell_type": "code",
      "execution_count": null,
      "metadata": {},
      "outputs": [],
      "source": [
        "!set -x \\\n",
        "&& pip install konlpy \\\n",
        "&& curl -s https://raw.githubusercontent.com/konlpy/konlpy/master/scripts/mecab.sh | bash -x"
      ]
    },
    {
      "cell_type": "markdown",
      "metadata": {
        "id": "hJhzBOckvqr9"
      },
      "source": [
        "#### 단어 토큰화"
      ]
    },
    {
      "cell_type": "markdown",
      "metadata": {
        "id": "P-34oqwZwsC3"
      },
      "source": [
        "* 한국어는 공백으로 단어를 분리해도 조사, 접속사 등이 남아 분석에 어려움이 있음\n",
        "* 이를 해결해주는 한국어 토큰화는 조사, 접속사를 분리해주거나 제거\n",
        "* 한국어 토큰화를 사용하기 위해선 `konlpy`와 `mecab`이라는 라이브러리가 필요"
      ]
    },
    {
      "cell_type": "code",
      "execution_count": null,
      "metadata": {},
      "outputs": [],
      "source": [
        "from konlpy.tag import Mecab\n",
        "tagger = Mecab()"
      ]
    },
    {
      "cell_type": "code",
      "execution_count": null,
      "metadata": {},
      "outputs": [],
      "source": [
        "sentence = '언제나 현재에 집중할 수 있다면 행복할 것이다.'\n",
        "tagger.pos(sentence)"
      ]
    },
    {
      "cell_type": "markdown",
      "metadata": {
        "id": "WKg9p-SlwyRe"
      },
      "source": [
        "* 토큰화만 실행할 때는 `tagger.morphs()`라는 함수를 이용"
      ]
    },
    {
      "cell_type": "code",
      "execution_count": null,
      "metadata": {},
      "outputs": [],
      "source": [
        "# 토큰화된 결과만 출력\n",
        "tagger.morphs(sentence)"
      ]
    },
    {
      "cell_type": "markdown",
      "metadata": {
        "id": "Q7u6-78hw0gD"
      },
      "source": [
        "* 형태소만 사용하고 싶을 때는 `tagger.nouns()`라는 함수를 이용해 조사, 접속사 등을 제거 가능"
      ]
    },
    {
      "cell_type": "code",
      "execution_count": null,
      "metadata": {
        "id": "1D_Bg0gewwm9"
      },
      "outputs": [],
      "source": [
        "tagger.nouns(sentence)"
      ]
    },
    {
      "cell_type": "markdown",
      "metadata": {
        "id": "ThPaMDOGvsiW"
      },
      "source": [
        "#### 문장 토큰화"
      ]
    },
    {
      "cell_type": "markdown",
      "metadata": {
        "id": "okKRCWhdxMbH"
      },
      "source": [
        "* 한국어 문장을 토큰화할 때는 kss(korean sentence splitter) 라이브러리 이용"
      ]
    },
    {
      "cell_type": "code",
      "execution_count": 115,
      "metadata": {
        "id": "dOKstGpcxv5-"
      },
      "outputs": [
        {
          "name": "stdout",
          "output_type": "stream",
          "text": [
            "Collecting kss\n",
            "  Downloading kss-3.6.4.tar.gz (42.4 MB)\n",
            "     --------------------------------------- 42.4/42.4 MB 31.2 MB/s eta 0:00:00\n",
            "  Preparing metadata (setup.py): started\n",
            "  Preparing metadata (setup.py): finished with status 'done'\n",
            "Collecting emoji==1.2.0\n",
            "  Downloading emoji-1.2.0-py3-none-any.whl (131 kB)\n",
            "     ---------------------------------------- 131.3/131.3 kB ? eta 0:00:00\n",
            "Requirement already satisfied: regex in c:\\users\\jiwon\\anaconda3\\lib\\site-packages (from kss) (2021.8.3)\n",
            "Requirement already satisfied: more_itertools in c:\\users\\jiwon\\anaconda3\\lib\\site-packages (from kss) (8.10.0)\n",
            "Building wheels for collected packages: kss\n",
            "  Building wheel for kss (setup.py): started\n",
            "  Building wheel for kss (setup.py): finished with status 'done'\n",
            "  Created wheel for kss: filename=kss-3.6.4-py3-none-any.whl size=42448614 sha256=6f25b0ab1b6fdef720bbe4326eeea80310acc85572e126287679034efee84394\n",
            "  Stored in directory: c:\\users\\jiwon\\appdata\\local\\pip\\cache\\wheels\\93\\64\\b9\\f6ea15f812bee3586784e55b9fd9298605140775c583184aa3\n",
            "Successfully built kss\n",
            "Installing collected packages: emoji, kss\n",
            "Successfully installed emoji-1.2.0 kss-3.6.4\n"
          ]
        }
      ],
      "source": [
        "!pip install kss"
      ]
    },
    {
      "cell_type": "markdown",
      "metadata": {
        "id": "A1VGyGg5yN-d"
      },
      "source": [
        "* 라이브러리를 이용해도 한국어에는 전치 표현이 존재해 제대로 토큰화가 안됨\n",
        "* 좀 더 나은 학습을 위해 사용자는 해당 부분을 따로 처리해주어야만 함"
      ]
    },
    {
      "cell_type": "code",
      "execution_count": 116,
      "metadata": {
        "id": "VIlTDBv7xMg7"
      },
      "outputs": [
        {
          "name": "stderr",
          "output_type": "stream",
          "text": [
            "[Korean Sentence Splitter]: Initializing Pynori...\n"
          ]
        },
        {
          "name": "stdout",
          "output_type": "stream",
          "text": [
            "['진짜? 내일 뭐하지.', '이렇게 애매모호한 문장도? 밥은 먹었어?', '나는...']\n"
          ]
        }
      ],
      "source": [
        "import kss\n",
        "\n",
        "text = '진짜? 내일 뭐하지. 이렇게 애매모호한 문장도? 밥은 먹었어? 나는...'\n",
        "\n",
        "print(kss.split_sentences(text))"
      ]
    },
    {
      "cell_type": "markdown",
      "metadata": {
        "id": "FAq7fR4r7cpA"
      },
      "source": [
        "#### 정규 표현식을 이용한 토큰화"
      ]
    },
    {
      "cell_type": "markdown",
      "metadata": {
        "id": "jkCInLL67l9M"
      },
      "source": [
        "* 한국어도 정규 표현식을 이용해 토큰화 가능"
      ]
    },
    {
      "cell_type": "code",
      "execution_count": 118,
      "metadata": {
        "id": "Lyscjy5a7c4r"
      },
      "outputs": [
        {
          "data": {
            "text/plain": [
              "['안녕하세요', '저는', '자연어', '처리', '를', '배우고', '있습니다']"
            ]
          },
          "execution_count": 118,
          "metadata": {},
          "output_type": "execute_result"
        }
      ],
      "source": [
        "from nltk.tokenize import RegexpTokenizer\n",
        "\n",
        "sentence = '안녕하세요 ㅋㅋ 저는 자연어 처리(Natural Language Processing)를ㄹㄹ!! 배우고 있습니다.'\n",
        "\n",
        "tokenizer = RegexpTokenizer('[가-힣]+')\n",
        "tokens = tokenizer.tokenize(sentence)\n",
        "tokens"
      ]
    },
    {
      "cell_type": "code",
      "execution_count": 119,
      "metadata": {
        "id": "gmXhfXCC7c0u"
      },
      "outputs": [
        {
          "data": {
            "text/plain": [
              "['안녕하세요 ', ' 저는 자연어 처리(Natural Language Processing)를', '!! 배우고 있습니다.']"
            ]
          },
          "execution_count": 119,
          "metadata": {},
          "output_type": "execute_result"
        }
      ],
      "source": [
        "tokenizer = RegexpTokenizer('[ㄱ-ㅎ]+', gaps=True)\n",
        "tokens = tokenizer.tokenize(sentence)\n",
        "tokens"
      ]
    },
    {
      "cell_type": "markdown",
      "metadata": {
        "id": "sZdfxeFsn25k"
      },
      "source": [
        "#### 케라스를 이용한 토큰화"
      ]
    },
    {
      "cell_type": "code",
      "execution_count": 120,
      "metadata": {
        "id": "-_Zn15pNn25o"
      },
      "outputs": [
        {
          "data": {
            "text/plain": [
              "['성공의', '비결은', '단', '한', '가지', '잘할', '수', '있는', '일에', '광적으로', '집중하는', '것이다']"
            ]
          },
          "execution_count": 120,
          "metadata": {},
          "output_type": "execute_result"
        }
      ],
      "source": [
        "from keras.preprocessing.text import text_to_word_sequence\n",
        "\n",
        "sentence = '성공의 비결은 단 한 가지, 잘할 수 있는 일에 광적으로 집중하는 것이다.'\n",
        "\n",
        "text_to_word_sequence(sentence)"
      ]
    },
    {
      "cell_type": "markdown",
      "metadata": {
        "id": "pzEFiZt7n25z"
      },
      "source": [
        "#### TextBlob을 이용한 토큰화"
      ]
    },
    {
      "cell_type": "code",
      "execution_count": 121,
      "metadata": {
        "id": "tgzHxLPyn252"
      },
      "outputs": [
        {
          "data": {
            "text/plain": [
              "WordList(['성공의', '비결은', '단', '한', '가지', '잘할', '수', '있는', '일에', '광적으로', '집중하는', '것이다'])"
            ]
          },
          "execution_count": 121,
          "metadata": {},
          "output_type": "execute_result"
        }
      ],
      "source": [
        "from textblob import TextBlob\n",
        "\n",
        "blob = TextBlob(sentence)\n",
        "blob.words"
      ]
    },
    {
      "cell_type": "markdown",
      "metadata": {
        "id": "3xaQF79AaKiN"
      },
      "source": [
        "## Bag of Words(BoW)"
      ]
    },
    {
      "cell_type": "code",
      "execution_count": 124,
      "metadata": {
        "id": "1-FpBEoS3CBY"
      },
      "outputs": [
        {
          "name": "stdout",
          "output_type": "stream",
          "text": [
            "[[1 1 1 2 2 2 1 1]]\n"
          ]
        }
      ],
      "source": [
        "from sklearn.feature_extraction.text import CountVectorizer\n",
        "\n",
        "corpus = ['Think like a man of action and act like man of thought.']\n",
        "\n",
        "vector = CountVectorizer()\n",
        "bow = vector.fit_transform(corpus)\n",
        "\n",
        "print(bow.toarray())\n",
        "print(vector.vocabulary_) # 단어마다의 인덱스 출력"
      ]
    },
    {
      "cell_type": "code",
      "execution_count": 125,
      "metadata": {
        "id": "VIjY4WXr48FE"
      },
      "outputs": [
        {
          "name": "stdout",
          "output_type": "stream",
          "text": [
            "[[1 1 2 2 1 1]]\n",
            "{'think': 4, 'like': 2, 'man': 3, 'action': 1, 'act': 0, 'thought': 5}\n"
          ]
        }
      ],
      "source": [
        "# stop_words 제거\n",
        "vector = CountVectorizer(stop_words='english')\n",
        "bow = vector.fit_transform(corpus)\n",
        "\n",
        "print(bow.toarray())\n",
        "print(vector.vocabulary_) # 단어마다의 인덱스 출력"
      ]
    },
    {
      "cell_type": "code",
      "execution_count": 126,
      "metadata": {
        "id": "OMeaVigC4eE6"
      },
      "outputs": [
        {
          "name": "stdout",
          "output_type": "stream",
          "text": [
            "[[2 1 1 1 1 1 1 1 1]]\n",
            "{'평생': 8, '것처럼': 0, '꿈을': 3, '꾸어라': 2, '그리고': 1, '내일': 4, '죽을': 7, '오늘을': 6, '살아라': 5}\n"
          ]
        }
      ],
      "source": [
        "corpus = ['평생 살 것처럼 꿈을 꾸어라. 그리고 내일 죽을 것처럼 오늘을 살아라.']\n",
        "\n",
        "vector = CountVectorizer()\n",
        "bow = vector.fit_transform(corpus)\n",
        "\n",
        "print(bow.toarray())\n",
        "print(vector.vocabulary_) # 단어마다의 인덱스 출력\n",
        "\n",
        "## space로만 구분하기에는 문제가 있다. ##"
      ]
    },
    {
      "cell_type": "code",
      "execution_count": null,
      "metadata": {},
      "outputs": [],
      "source": [
        "import re\n",
        "from konlpy.tag import Mecab\n",
        "tagger = Mecab()\n",
        "\n",
        "corpus = '평생 살 것처럼 꿈을 꾸어라. 그리고 내일 죽을 것처럼 오늘을 살아라.'\n",
        "tokens = tagger.morphs(re.sub('(\\.)', '', corpus))\n",
        "\n",
        "vocab = {}\n",
        "bow = []\n",
        "\n",
        "for tok in tokens:\n",
        "\tif tok not in vocab.keys():\n",
        "\t\tvocab[tok] = len(vocab)\n",
        "\t\tbow.insert(len(vocab)-1, 1)\n",
        "\telse:\n",
        "\t\tindex = vocab.get(tok)\n",
        "\t\tbow[index] = bow[index]+1\n",
        "\n",
        "print(bow)\n",
        "print(vocab)"
      ]
    },
    {
      "cell_type": "markdown",
      "metadata": {
        "id": "5n2gkHk17NyC"
      },
      "source": [
        "## 문서 단어 행렬(DTM)"
      ]
    },
    {
      "cell_type": "markdown",
      "metadata": {
        "id": "F87rTUZs7S2p"
      },
      "source": [
        "* 문서 단어 행렬(Document-Term Matrix)은 문서에 등장하는 여러 단어들의 빈도를 행렬로 표현\n",
        "* 각 문서에 대한 BoW를 하나의 행렬로 표현한 것"
      ]
    },
    {
      "cell_type": "code",
      "execution_count": 130,
      "metadata": {
        "id": "c4pNYz6V7SO9"
      },
      "outputs": [
        {
          "name": "stdout",
          "output_type": "stream",
          "text": [
            "[[1 1 0 0 2 2 0 1 1 0 0]\n",
            " [0 0 0 0 0 2 1 0 0 2 1]\n",
            " [0 0 1 1 0 0 0 0 0 0 0]]\n",
            "{'think': 7, 'like': 4, 'man': 5, 'action': 1, 'act': 0, 'thought': 8, 'try': 9, 'success': 6, 'value': 10, 'liberty': 3, 'death': 2}\n"
          ]
        }
      ],
      "source": [
        "from sklearn.feature_extraction.text import CountVectorizer\n",
        "\n",
        "corpus = ['Think like a man of action and act like man of thought.',\n",
        "          'Try not to become a man of success but rather try to become a man of value.',\n",
        "\t\t  'Give me liberty, of give me death']\n",
        "\n",
        "vector = CountVectorizer(stop_words='english')\n",
        "bow = vector.fit_transform(corpus)\n",
        "\n",
        "print(bow.toarray())\n",
        "print(vector.vocabulary_)"
      ]
    },
    {
      "cell_type": "code",
      "execution_count": 137,
      "metadata": {},
      "outputs": [
        {
          "data": {
            "text/html": [
              "<div>\n",
              "<style scoped>\n",
              "    .dataframe tbody tr th:only-of-type {\n",
              "        vertical-align: middle;\n",
              "    }\n",
              "\n",
              "    .dataframe tbody tr th {\n",
              "        vertical-align: top;\n",
              "    }\n",
              "\n",
              "    .dataframe thead th {\n",
              "        text-align: right;\n",
              "    }\n",
              "</style>\n",
              "<table border=\"1\" class=\"dataframe\">\n",
              "  <thead>\n",
              "    <tr style=\"text-align: right;\">\n",
              "      <th></th>\n",
              "      <th>act</th>\n",
              "      <th>action</th>\n",
              "      <th>death</th>\n",
              "      <th>liberty</th>\n",
              "      <th>like</th>\n",
              "      <th>man</th>\n",
              "      <th>success</th>\n",
              "      <th>think</th>\n",
              "      <th>thought</th>\n",
              "      <th>try</th>\n",
              "      <th>value</th>\n",
              "    </tr>\n",
              "  </thead>\n",
              "  <tbody>\n",
              "    <tr>\n",
              "      <th>0</th>\n",
              "      <td>1</td>\n",
              "      <td>1</td>\n",
              "      <td>0</td>\n",
              "      <td>0</td>\n",
              "      <td>2</td>\n",
              "      <td>2</td>\n",
              "      <td>0</td>\n",
              "      <td>1</td>\n",
              "      <td>1</td>\n",
              "      <td>0</td>\n",
              "      <td>0</td>\n",
              "    </tr>\n",
              "    <tr>\n",
              "      <th>1</th>\n",
              "      <td>0</td>\n",
              "      <td>0</td>\n",
              "      <td>0</td>\n",
              "      <td>0</td>\n",
              "      <td>0</td>\n",
              "      <td>2</td>\n",
              "      <td>1</td>\n",
              "      <td>0</td>\n",
              "      <td>0</td>\n",
              "      <td>2</td>\n",
              "      <td>1</td>\n",
              "    </tr>\n",
              "    <tr>\n",
              "      <th>2</th>\n",
              "      <td>0</td>\n",
              "      <td>0</td>\n",
              "      <td>1</td>\n",
              "      <td>1</td>\n",
              "      <td>0</td>\n",
              "      <td>0</td>\n",
              "      <td>0</td>\n",
              "      <td>0</td>\n",
              "      <td>0</td>\n",
              "      <td>0</td>\n",
              "      <td>0</td>\n",
              "    </tr>\n",
              "  </tbody>\n",
              "</table>\n",
              "</div>"
            ],
            "text/plain": [
              "   act  action  death  liberty  like  man  success  think  thought  try  value\n",
              "0    1       1      0        0     2    2        0      1        1    0      0\n",
              "1    0       0      0        0     0    2        1      0        0    2      1\n",
              "2    0       0      1        1     0    0        0      0        0    0      0"
            ]
          },
          "execution_count": 137,
          "metadata": {},
          "output_type": "execute_result"
        }
      ],
      "source": [
        "import pandas as pd\n",
        "\n",
        "columns = []\n",
        "# 뒤에 있는 index 값을 기준으로 정렬\n",
        "for k, v in sorted(vector.vocabulary_.items(), key=lambda item:item[1]):\n",
        "\tcolumns.append(k)\n",
        "\n",
        "df = pd.DataFrame(bow.toarray(), columns=columns)\n",
        "df"
      ]
    },
    {
      "cell_type": "markdown",
      "metadata": {
        "id": "_z-bPw94FTGb"
      },
      "source": [
        "## 어휘 빈도-문서 역빈도(TF-IDF) 분석"
      ]
    },
    {
      "cell_type": "markdown",
      "metadata": {
        "id": "k-0f-hz5Fgai"
      },
      "source": [
        "* 어휘 빈도-문서 역빈도(TF-IDF; Term Frequency-Inverse Docunment Frequency)는 단순히 빈도수가 높은 단어가 핵심어가 아닌, 특정 문서에서만 집중적으로 등장할 때 해당 단어가 문서의 주제를 잘 담고 있는 핵심어라고 가정"
      ]
    },
    {
      "cell_type": "markdown",
      "metadata": {
        "id": "Z3kEwiZBJSSB"
      },
      "source": [
        "* 특정 문서에서 특정단어가 많이 등장하고 그 단어가 다른 문서에서 적게 등장할 때, 그 단어를 특정 문서의 핵심어로 간주\n",
        "* 어휘 빈도-문서 역빈도는 어휘 빈도(TF)와 역문서 빈도(IDF)를 곱해 계산 가능"
      ]
    },
    {
      "cell_type": "markdown",
      "metadata": {
        "id": "s7wTnMY8JEDC"
      },
      "source": [
        "* **어휘 빈도**는 특정 문서에서 특정 단어가 많이 등장하는 것을 의미\n",
        "\n",
        "$$ tf_{x,y} $$"
      ]
    },
    {
      "cell_type": "markdown",
      "metadata": {
        "id": "R8289-mSJF1p"
      },
      "source": [
        "* **역문서 빈도**는 다른 문서에서 등장하지 않는 단어 빈도를 의미\n",
        "\n",
        "$$ log(N/df_x) $$      "
      ]
    },
    {
      "cell_type": "markdown",
      "metadata": {
        "id": "3MyZYLgRJH8R"
      },
      "source": [
        "* **어휘 빈도-문서 역빈도**는 다음과 같이 표현\n",
        "\n",
        "$$ W_{x,y} = tf_{x,y} * log(N/df_x) $$"
      ]
    },
    {
      "cell_type": "markdown",
      "metadata": {
        "id": "cv_23ugcKMjS"
      },
      "source": [
        "* tf-idf를 편리하게 계산하기 위해 `scikit-learn`의 `tfidfvectorizer`를 이용\n",
        "* 앞서 계산한 단어 빈도 수를 입력하여 tf-idf로 변환"
      ]
    },
    {
      "cell_type": "code",
      "execution_count": 138,
      "metadata": {
        "id": "JH25kuy-J8cj"
      },
      "outputs": [
        {
          "name": "stdout",
          "output_type": "stream",
          "text": [
            "[[0.311383   0.311383   0.         0.         0.62276601 0.4736296\n",
            "  0.         0.311383   0.311383   0.         0.        ]\n",
            " [0.         0.         0.         0.         0.         0.52753275\n",
            "  0.34682109 0.         0.         0.69364217 0.34682109]\n",
            " [0.         0.         0.70710678 0.70710678 0.         0.\n",
            "  0.         0.         0.         0.         0.        ]]\n",
            "{'think': 7, 'like': 4, 'man': 5, 'action': 1, 'act': 0, 'thought': 8, 'try': 9, 'success': 6, 'value': 10, 'liberty': 3, 'death': 2}\n"
          ]
        }
      ],
      "source": [
        "from sklearn.feature_extraction.text import TfidfVectorizer\n",
        "\n",
        "tfidf = TfidfVectorizer(stop_words='english').fit(corpus)\n",
        "\n",
        "print(tfidf.transform(corpus).toarray())\n",
        "print(tfidf.vocabulary_)"
      ]
    },
    {
      "cell_type": "markdown",
      "metadata": {
        "id": "eoGurU81KqYD"
      },
      "source": [
        "* 좀 더 편리하게 확인하기 위해 데이터프레임으로 변환"
      ]
    },
    {
      "cell_type": "code",
      "execution_count": 139,
      "metadata": {
        "id": "uSjYYeDBKGEr"
      },
      "outputs": [
        {
          "data": {
            "text/html": [
              "<div>\n",
              "<style scoped>\n",
              "    .dataframe tbody tr th:only-of-type {\n",
              "        vertical-align: middle;\n",
              "    }\n",
              "\n",
              "    .dataframe tbody tr th {\n",
              "        vertical-align: top;\n",
              "    }\n",
              "\n",
              "    .dataframe thead th {\n",
              "        text-align: right;\n",
              "    }\n",
              "</style>\n",
              "<table border=\"1\" class=\"dataframe\">\n",
              "  <thead>\n",
              "    <tr style=\"text-align: right;\">\n",
              "      <th></th>\n",
              "      <th>act</th>\n",
              "      <th>action</th>\n",
              "      <th>death</th>\n",
              "      <th>liberty</th>\n",
              "      <th>like</th>\n",
              "      <th>man</th>\n",
              "      <th>success</th>\n",
              "      <th>think</th>\n",
              "      <th>thought</th>\n",
              "      <th>try</th>\n",
              "      <th>value</th>\n",
              "    </tr>\n",
              "  </thead>\n",
              "  <tbody>\n",
              "    <tr>\n",
              "      <th>0</th>\n",
              "      <td>0.311383</td>\n",
              "      <td>0.311383</td>\n",
              "      <td>0.000000</td>\n",
              "      <td>0.000000</td>\n",
              "      <td>0.622766</td>\n",
              "      <td>0.473630</td>\n",
              "      <td>0.000000</td>\n",
              "      <td>0.311383</td>\n",
              "      <td>0.311383</td>\n",
              "      <td>0.000000</td>\n",
              "      <td>0.000000</td>\n",
              "    </tr>\n",
              "    <tr>\n",
              "      <th>1</th>\n",
              "      <td>0.000000</td>\n",
              "      <td>0.000000</td>\n",
              "      <td>0.000000</td>\n",
              "      <td>0.000000</td>\n",
              "      <td>0.000000</td>\n",
              "      <td>0.527533</td>\n",
              "      <td>0.346821</td>\n",
              "      <td>0.000000</td>\n",
              "      <td>0.000000</td>\n",
              "      <td>0.693642</td>\n",
              "      <td>0.346821</td>\n",
              "    </tr>\n",
              "    <tr>\n",
              "      <th>2</th>\n",
              "      <td>0.000000</td>\n",
              "      <td>0.000000</td>\n",
              "      <td>0.707107</td>\n",
              "      <td>0.707107</td>\n",
              "      <td>0.000000</td>\n",
              "      <td>0.000000</td>\n",
              "      <td>0.000000</td>\n",
              "      <td>0.000000</td>\n",
              "      <td>0.000000</td>\n",
              "      <td>0.000000</td>\n",
              "      <td>0.000000</td>\n",
              "    </tr>\n",
              "  </tbody>\n",
              "</table>\n",
              "</div>"
            ],
            "text/plain": [
              "        act    action     death  ...   thought       try     value\n",
              "0  0.311383  0.311383  0.000000  ...  0.311383  0.000000  0.000000\n",
              "1  0.000000  0.000000  0.000000  ...  0.000000  0.693642  0.346821\n",
              "2  0.000000  0.000000  0.707107  ...  0.000000  0.000000  0.000000\n",
              "\n",
              "[3 rows x 11 columns]"
            ]
          },
          "execution_count": 139,
          "metadata": {},
          "output_type": "execute_result"
        }
      ],
      "source": [
        "columns = []\n",
        "\n",
        "for k, v in sorted(tfidf.vocabulary_.items(), key=lambda item:item[1]):\n",
        "\tcolumns.append(k)\n",
        "\n",
        "df = pd.DataFrame(tfidf.transform(corpus).toarray(), columns=columns)\n",
        "df "
      ]
    }
  ],
  "metadata": {
    "colab": {
      "collapsed_sections": [],
      "provenance": [],
      "toc_visible": true
    },
    "kernelspec": {
      "display_name": "base",
      "language": "python",
      "name": "python3"
    },
    "language_info": {
      "codemirror_mode": {
        "name": "ipython",
        "version": 3
      },
      "file_extension": ".py",
      "mimetype": "text/x-python",
      "name": "python",
      "nbconvert_exporter": "python",
      "pygments_lexer": "ipython3",
      "version": "3.9.7"
    },
    "vscode": {
      "interpreter": {
        "hash": "0199bbf5df4ad7c62233e7a6971770a9c8af15db9a7b63bc190fc9c0bfb8bc7b"
      }
    }
  },
  "nbformat": 4,
  "nbformat_minor": 0
}
